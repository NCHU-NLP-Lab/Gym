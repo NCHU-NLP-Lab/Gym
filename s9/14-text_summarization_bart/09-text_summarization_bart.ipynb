{
 "cells": [
  {
   "cell_type": "markdown",
   "metadata": {},
   "source": [
    "# Load Data"
   ]
  },
  {
   "cell_type": "code",
   "execution_count": 33,
   "metadata": {},
   "outputs": [],
   "source": [
    "import json\n",
    "from sklearn.model_selection import train_test_split\n",
    "\n",
    "file_path = '/user_data/text_summarization/chinese_summary_dataset.json'\n",
    "with open(file_path, 'r', encoding='utf-8') as f:\n",
    "    data = json.load(f)\n",
    "    \n",
    "articles = [entry['article'] for entry in data]\n",
    "summaries = [entry['summary'] for entry in data]\n",
    "\n",
    "train_articles, test_articles, train_summaries, test_summaries = train_test_split(\n",
    "    articles, summaries, test_size=0.2, random_state=42\n",
    ")\n",
    "\n",
    "train_articles, val_articles, train_summaries, val_summaries = train_test_split(\n",
    "    train_articles, train_summaries, test_size=0.2, random_state=42\n",
    ")"
   ]
  },
  {
   "cell_type": "code",
   "execution_count": 34,
   "metadata": {},
   "outputs": [
    {
     "name": "stdout",
     "output_type": "stream",
     "text": [
      "training data 筆數： 15662\n",
      "testing data 筆數： 4895\n",
      "question： 多知網4月9日訊息，今日，尚德召開了主題為“重生—一場志在炫耀的釋出會”，披露3月份營收數字：7840萬，同比增長100%。尚德還公佈了以下資料：通過網際網路學習的人數突破了6萬，每天線上學習人數2萬5千人，看回放總人次超過3萬人，老師授課時長超過3萬小時，單天刷題量超過56萬，學生打分好評率達到99.8%，通過率60%-65%，重複消費率破40%⋯⋯轉型後的尚德，一改過去幾年“崇尚黑森林法則”的論調，愈發高調起來。用尚德創始人歐蓬的話說，“終於可以出來見人了”。那麼，尚德任性＂炫耀＂背後的底氣是什麼？單月營收額7840萬是如何實現的？**首先要轉變思想**2008年-2010年，是歐蓬的理論建設期。從2008年開始，他不再混教育圈，而是去見網際網路行業的人。“那個時間點，網際網路行業的人談的一些事情我完全不懂，我嘗試努力懂得他們的思維方式，懂得他們的邏輯，懂得他們的玩法、戰術、戰略。”基於之前的理論建設，2011年，尚德做了第一代試錯產品嗨學網，2013年做出了第二代試錯產品對啊網，2014年6月6日全面轉到狐邏學院做直播。歐蓬認為，風格是價值觀的外延，內心的轉變很重要。“蘇寧一直還穿西服去做網際網路，這個風格是有問題的，所以說對於任何一個傳統企業的老闆，他最大的問題是老闆他到底有沒有變化。”**狼性文化，果斷捨棄**2013年底，尚德決定將線下店全部關閉。對於這一決定，一些校長是＂拒絕＂的。＂我相信沒好的未來，我相信線上是對的，但我接受不了兩年辛辛苦苦經營的校一夜之間關了。”很多校長從情感上無法接受，忍痛離開。另一關鍵群體是老師。很多的傳統的老師是很牴觸或者不適應上直播課，要調動學員氛圍，要產生粉絲和口碑。在老師轉型的過程中，尚德的原則是，對於心態非常封閉保守的老師，如果實在不能轉型，尚德會果斷捨棄。“這樣的老師的基因更加適合面授，我們更想帶更多願意跟我們活在未來的人一起走，我們的風格是狼性的。＂直播形式推動教學質量尚德認為，教育1.0時代是面授時代，相對價效比比較高的價格保證相對還不錯的通過率；2.0時代是錄播時代，學員很難戰勝看視訊的孤獨感，錄播的完成率不高於5%，高度依賴於一個人的自學能力和自控能力，教學質量蠻難控制。3.0時代是直播時代，最重要的理念是日更新日迭代，每一天老師的課件都是不一樣的，都是與時俱進的，不會發現一個老師一個課件用一輩子，評判標準不再是授課時長，而是用課件迭代了多少次，教學內容研發了多少次，產生了多少深愛他的粉絲。尚德披露，狐邏學院的通過率在60%-65%，遠高於之前的面授。**直播更能玩轉粉絲經濟**“一切沒有真粉絲產生的直播，都是偽直播。一切沒有粉絲產生的培訓機構，都是偽培訓機構。”郭瀟瀟說。尚德認為，學習不應該是痛苦的、反人性的，而是應該與學生輕鬆、愉悅的互動，老師上課時甚至會給學員唱歌或彈琴，完全是不同於以往的課堂氛圍。在這種氛圍下，產生了一批老師的粉絲。轉型直播後，直播平臺狐邏學院用“家族”化的方式運營產品和老師，玩轉“粉絲經濟”。狐邏學院現在有40個家族，3000名鐵桿粉，貼吧刷帖量達到100萬。粉絲經濟對重複消費率的提升也很顯著，目前狐邏學院重複消費率破40%。**盈利能力**轉型過程中，自身的盈利能力很重要。“我們是一個有掙錢傳統和能製造收入的公司。”歐蓬說。歐蓬講述了一個與投資人的故事。2010年，尚德機構收入1億左右，有2000多萬元的現金，“那時候，我見了一堆投資人，說我們能把這個做起來，你要相信我們，但是投資人說我不相信你，你快死掉了。”“我們需要5000萬-6000萬資金把事情做起來，但只有2000萬，怎麼辦？我們就用自己的錢先做。一年後嗨學網上線，一天有幾十單，然後投資人就找過來了。”“投資人永遠都是在你晴天的時候給你一把傘，然後追加一筆錢，而不會在雨天給你一把傘。因為我們一直是有製造收入的能力，經過上一次的經驗之後，我們投資人都不見了，我們先把這個事幹了再說。”歐蓬說。**構建壁壘**“我最開心的是，在過去的10年時間，我們製造了成人教育行業的壁壘和門檻，我起家的2萬塊錢，提高到了今天你們沒有4-6個億是進不來。如果我們不製造壁壘，那最後均衡力就一定趨於零。所有的靜態產品永遠都不可避免被人抄襲，唯有不能抄襲是產品之後的持續的迭代機制，管理，團隊。小米之所以成為小米，我們看到的只是小米手機的那個物理形式的，但是看不到小米的背後組織結構，部門和部門之間是有機體。（多知網Karyn\n",
      "taget： 尚德召開了主題為“重生—一場志在炫耀的釋出會”，披露3月份營收數字：7840萬，同比增長100%。\n"
     ]
    }
   ],
   "source": [
    "print(\"training data 筆數：\", len(train_articles))\n",
    "print(\"testing data 筆數：\", len(test_articles))\n",
    "print(\"question：\", train_articles[0])\n",
    "print(\"taget：\", train_summaries[0])"
   ]
  },
  {
   "cell_type": "markdown",
   "metadata": {},
   "source": [
    "# Tokenizer"
   ]
  },
  {
   "cell_type": "code",
   "execution_count": 35,
   "metadata": {},
   "outputs": [],
   "source": [
    "from transformers import  BartTokenizer\n",
    "tokenizer = BartTokenizer.from_pretrained(\"facebook/bart-base\")\n",
    "\n",
    "tokenize_train_data=tokenizer(train_articles,text_target=train_summaries,padding=True,truncation=True)\n",
    "tokenize_val_data=tokenizer(val_articles,text_target=val_summaries,padding=True,truncation=True)\n",
    "tokenize_test_data=tokenizer(test_articles,text_target=test_summaries,padding=True,truncation=True)"
   ]
  },
  {
   "cell_type": "code",
   "execution_count": 36,
   "metadata": {},
   "outputs": [
    {
     "data": {
      "text/plain": [
       "dict_keys(['input_ids', 'attention_mask', 'labels'])"
      ]
     },
     "execution_count": 36,
     "metadata": {},
     "output_type": "execute_result"
    }
   ],
   "source": [
    "tokenize_train_data.keys()"
   ]
  },
  {
   "cell_type": "code",
   "execution_count": 37,
   "metadata": {},
   "outputs": [
    {
     "data": {
      "text/plain": [
       "[0,\n",
       " 47983,\n",
       " 15113,\n",
       " 36714,\n",
       " 4333,\n",
       " 8210,\n",
       " 36714,\n",
       " 19002,\n",
       " 14292,\n",
       " 306,\n",
       " 44636,\n",
       " 23133,\n",
       " 466,\n",
       " 47954,\n",
       " 8210,\n",
       " 36484,\n",
       " 11423,\n",
       " 27969,\n",
       " 37127,\n",
       " 10172,\n",
       " 10965,\n",
       " 43251,\n",
       " 4394,\n",
       " 14285,\n",
       " 46890,\n",
       " 27969,\n",
       " 47954,\n",
       " 8210,\n",
       " 43251,\n",
       " 4394,\n",
       " 14285,\n",
       " 47842,\n",
       " 15113,\n",
       " 48412,\n",
       " 18400,\n",
       " 45262,\n",
       " 11582,\n",
       " 49035,\n",
       " 13859,\n",
       " 46499,\n",
       " 27819,\n",
       " 46015,\n",
       " 2023,\n",
       " 41907,\n",
       " 5543,\n",
       " 14285,\n",
       " 36714,\n",
       " 9264,\n",
       " 3070,\n",
       " 17,\n",
       " 48,\n",
       " 47994,\n",
       " 8384,\n",
       " 48998,\n",
       " 578,\n",
       " 48105,\n",
       " 42393,\n",
       " 21402,\n",
       " 20024,\n",
       " 48765,\n",
       " 6800,\n",
       " 46537,\n",
       " 11423,\n",
       " 36714,\n",
       " 9264,\n",
       " 4958,\n",
       " 48991,\n",
       " 7471,\n",
       " 44574,\n",
       " 47994,\n",
       " 13859,\n",
       " 48635,\n",
       " 3070,\n",
       " 44636,\n",
       " 862,\n",
       " 17,\n",
       " 46,\n",
       " 43251,\n",
       " 4394,\n",
       " 14285,\n",
       " 37127,\n",
       " 27969,\n",
       " 4958,\n",
       " 41907,\n",
       " 48,\n",
       " 14292,\n",
       " 246,\n",
       " 44636,\n",
       " 23133,\n",
       " 46890,\n",
       " 10809,\n",
       " 36714,\n",
       " 6382,\n",
       " 4333,\n",
       " 37127,\n",
       " 10674,\n",
       " 49363,\n",
       " 15722,\n",
       " 18537,\n",
       " 48823,\n",
       " 6800,\n",
       " 43251,\n",
       " 4394,\n",
       " 15113,\n",
       " 5479,\n",
       " 1749,\n",
       " 36484,\n",
       " 16948,\n",
       " 11582,\n",
       " 43251,\n",
       " 4394,\n",
       " 14285,\n",
       " 47504,\n",
       " 14285,\n",
       " 37127,\n",
       " 10965,\n",
       " 10674,\n",
       " 42393,\n",
       " 7258,\n",
       " 17772,\n",
       " 41907,\n",
       " 15722,\n",
       " 18400,\n",
       " 1866,\n",
       " 207,\n",
       " 45682,\n",
       " 47842,\n",
       " 15113,\n",
       " 48412,\n",
       " 18400,\n",
       " 41907,\n",
       " 9264,\n",
       " 11936,\n",
       " 45895,\n",
       " 11582,\n",
       " 47856,\n",
       " 23133,\n",
       " 46499,\n",
       " 27819,\n",
       " 46890,\n",
       " 8210,\n",
       " 46015,\n",
       " 13859,\n",
       " 36484,\n",
       " 15264,\n",
       " 6382,\n",
       " 47240,\n",
       " 27,\n",
       " 43251,\n",
       " 4394,\n",
       " 15113,\n",
       " 48173,\n",
       " 49431,\n",
       " 10172,\n",
       " 12736,\n",
       " 36714,\n",
       " 19002,\n",
       " 14292,\n",
       " 48731,\n",
       " 3726,\n",
       " 36714,\n",
       " 19002,\n",
       " 14292,\n",
       " 36484,\n",
       " 18400,\n",
       " 10965,\n",
       " 48823,\n",
       " 18537,\n",
       " 36714,\n",
       " 9470,\n",
       " 10659,\n",
       " 44574,\n",
       " 47973,\n",
       " 48607,\n",
       " 18537,\n",
       " 36714,\n",
       " 10278,\n",
       " 10172,\n",
       " 36714,\n",
       " 21402,\n",
       " 20024,\n",
       " 46499,\n",
       " 27819,\n",
       " 401,\n",
       " 36484,\n",
       " 16948,\n",
       " 11582,\n",
       " 43251,\n",
       " 4394,\n",
       " 14285,\n",
       " 37127,\n",
       " 10965,\n",
       " 9357,\n",
       " 49429,\n",
       " 49458,\n",
       " 15113,\n",
       " 48827,\n",
       " 48823,\n",
       " 18537,\n",
       " 36714,\n",
       " 9470,\n",
       " 10659,\n",
       " 47973,\n",
       " 48607,\n",
       " 18537,\n",
       " 176,\n",
       " 36484,\n",
       " 16948,\n",
       " 11582,\n",
       " 245,\n",
       " 47658,\n",
       " 862,\n",
       " 47973,\n",
       " 43251,\n",
       " 4394,\n",
       " 14285,\n",
       " 49122,\n",
       " 13859,\n",
       " 47516,\n",
       " 17772,\n",
       " 37127,\n",
       " 10674,\n",
       " 4726,\n",
       " 36714,\n",
       " 18537,\n",
       " 10809,\n",
       " 47973,\n",
       " 37127,\n",
       " 11582,\n",
       " 5543,\n",
       " 36484,\n",
       " 49726,\n",
       " 48583,\n",
       " 12736,\n",
       " 246,\n",
       " 36484,\n",
       " 16948,\n",
       " 11582,\n",
       " 47973,\n",
       " 43251,\n",
       " 4394,\n",
       " 14285,\n",
       " 48991,\n",
       " 10172,\n",
       " 47878,\n",
       " 4958,\n",
       " 37127,\n",
       " 12736,\n",
       " 49512,\n",
       " 10278,\n",
       " 14292,\n",
       " 37127,\n",
       " 48985,\n",
       " 41907,\n",
       " 15722,\n",
       " 18400,\n",
       " 36484,\n",
       " 49726,\n",
       " 48583,\n",
       " 12736,\n",
       " 246,\n",
       " 36484,\n",
       " 16948,\n",
       " 11582,\n",
       " 47842,\n",
       " 9357,\n",
       " 37127,\n",
       " 48985,\n",
       " 43251,\n",
       " 4394,\n",
       " 14285,\n",
       " 42393,\n",
       " 25448,\n",
       " 2840,\n",
       " 49429,\n",
       " 47166,\n",
       " 18400,\n",
       " 41907,\n",
       " 5543,\n",
       " 14285,\n",
       " 47994,\n",
       " 9357,\n",
       " 36484,\n",
       " 49726,\n",
       " 48583,\n",
       " 12736,\n",
       " 4419,\n",
       " 36484,\n",
       " 16948,\n",
       " 11582,\n",
       " 43251,\n",
       " 4394,\n",
       " 14285,\n",
       " 48823,\n",
       " 18537,\n",
       " 48998,\n",
       " 48548,\n",
       " 9085,\n",
       " 47166,\n",
       " 27819,\n",
       " 48975,\n",
       " 10809,\n",
       " 36484,\n",
       " 15375,\n",
       " 15722,\n",
       " 36714,\n",
       " 12736,\n",
       " 6382,\n",
       " 48583,\n",
       " 10674,\n",
       " 47166,\n",
       " 7487,\n",
       " 2831,\n",
       " 4,\n",
       " 398,\n",
       " 207,\n",
       " 43251,\n",
       " 4394,\n",
       " 14285,\n",
       " 48173,\n",
       " 49431,\n",
       " 10172,\n",
       " 12736,\n",
       " 36714,\n",
       " 12736,\n",
       " 6382,\n",
       " 2466,\n",
       " 27868,\n",
       " 3506,\n",
       " 207,\n",
       " 43251,\n",
       " 4394,\n",
       " 14285,\n",
       " 47994,\n",
       " 8384,\n",
       " 36484,\n",
       " 10470,\n",
       " 6382,\n",
       " 37127,\n",
       " 19002,\n",
       " 49512,\n",
       " 14292,\n",
       " 2023,\n",
       " 36714,\n",
       " 12736,\n",
       " 6382,\n",
       " 36714,\n",
       " 21402,\n",
       " 20024,\n",
       " 1749,\n",
       " 207,\n",
       " 24987,\n",
       " 13859,\n",
       " 10965,\n",
       " 24987,\n",
       " 13859,\n",
       " 10965,\n",
       " 36484,\n",
       " 10809,\n",
       " 23171,\n",
       " 42393,\n",
       " 17772,\n",
       " 13859,\n",
       " 48412,\n",
       " 14285,\n",
       " 44574,\n",
       " 47842,\n",
       " 15113,\n",
       " 48412,\n",
       " 18400,\n",
       " 43251,\n",
       " 4394,\n",
       " 14285,\n",
       " 48105,\n",
       " 37127,\n",
       " 10674,\n",
       " 9253,\n",
       " 48583,\n",
       " 12736,\n",
       " 49036,\n",
       " 2023,\n",
       " 47168,\n",
       " 4726,\n",
       " 47168,\n",
       " 20024,\n",
       " 17,\n",
       " 48,\n",
       " 42393,\n",
       " 20024,\n",
       " 6382,\n",
       " 47842,\n",
       " 49431,\n",
       " 2023,\n",
       " 3602,\n",
       " 37127,\n",
       " 2469,\n",
       " 2840,\n",
       " 37127,\n",
       " 17772,\n",
       " 6800,\n",
       " 48820,\n",
       " 15722,\n",
       " 49075,\n",
       " 6382,\n",
       " 17,\n",
       " 46,\n",
       " 44574,\n",
       " 36484,\n",
       " 4958,\n",
       " 25448,\n",
       " 48537,\n",
       " 9470,\n",
       " 43251,\n",
       " 4394,\n",
       " 14285,\n",
       " 48959,\n",
       " 23133,\n",
       " 36714,\n",
       " 27,\n",
       " 4394,\n",
       " 41907,\n",
       " 48894,\n",
       " 48537,\n",
       " 9470,\n",
       " 36484,\n",
       " 8906,\n",
       " 18400,\n",
       " 48753,\n",
       " 4726,\n",
       " 27819,\n",
       " 45682,\n",
       " 47873,\n",
       " 11423,\n",
       " 47842,\n",
       " 15113,\n",
       " 48412,\n",
       " 18400,\n",
       " 49075,\n",
       " 8906,\n",
       " 49400,\n",
       " 13859,\n",
       " 47973,\n",
       " 48531,\n",
       " 16948,\n",
       " 36484,\n",
       " 9085,\n",
       " 11582,\n",
       " 44574,\n",
       " 36484,\n",
       " 15375,\n",
       " 15389,\n",
       " 48537,\n",
       " 10278,\n",
       " 43251,\n",
       " 4394,\n",
       " 14285,\n",
       " 17,\n",
       " 48,\n",
       " 36714,\n",
       " 8906,\n",
       " 9264,\n",
       " 47240,\n",
       " 4394,\n",
       " 45262,\n",
       " 10965,\n",
       " 46890,\n",
       " 8210,\n",
       " 48635,\n",
       " 3070,\n",
       " 48753,\n",
       " 4726,\n",
       " 27819,\n",
       " 48334,\n",
       " 13859,\n",
       " 47973,\n",
       " 46499,\n",
       " 27819,\n",
       " 17,\n",
       " 46,\n",
       " 45682,\n",
       " 41907,\n",
       " 9264,\n",
       " 2469,\n",
       " 41907,\n",
       " 3070,\n",
       " 4394,\n",
       " 43251,\n",
       " 4394,\n",
       " 14285,\n",
       " 47842,\n",
       " 15113,\n",
       " 48412,\n",
       " 18400,\n",
       " 46890,\n",
       " 2023,\n",
       " 48483,\n",
       " 6248,\n",
       " 43251,\n",
       " 4394,\n",
       " 9264,\n",
       " 36714,\n",
       " 9264,\n",
       " 4958,\n",
       " 48991,\n",
       " 7471,\n",
       " 43251,\n",
       " 4394,\n",
       " 9264,\n",
       " 48620,\n",
       " 14285,\n",
       " 48412,\n",
       " 14285,\n",
       " 44574,\n",
       " 48186,\n",
       " 15722,\n",
       " 48570,\n",
       " 2469,\n",
       " 48569,\n",
       " 46890,\n",
       " 7471,\n",
       " 41907,\n",
       " 3070,\n",
       " 4394,\n",
       " 43251,\n",
       " 4394,\n",
       " 4333,\n",
       " 42393,\n",
       " 25448,\n",
       " 2840,\n",
       " 44636,\n",
       " 23133,\n",
       " 36714,\n",
       " 6382,\n",
       " 4333,\n",
       " 37127,\n",
       " 10674,\n",
       " 19002,\n",
       " 41907,\n",
       " 5543,\n",
       " 8384,\n",
       " 5479,\n",
       " 1749,\n",
       " 36484,\n",
       " 16948,\n",
       " 11582,\n",
       " 48569,\n",
       " 49131,\n",
       " 9264,\n",
       " 47856,\n",
       " 15722,\n",
       " 48420,\n",
       " 18164,\n",
       " 36714,\n",
       " 9357,\n",
       " 4726,\n",
       " 44574,\n",
       " 43251,\n",
       " 4394,\n",
       " 4333,\n",
       " 12606,\n",
       " 41907,\n",
       " 18164,\n",
       " 25448,\n",
       " 45895,\n",
       " 23133,\n",
       " 48334,\n",
       " 10172,\n",
       " 36484,\n",
       " 10809,\n",
       " 23171,\n",
       " 36484,\n",
       " 2840,\n",
       " 27969,\n",
       " 48483,\n",
       " 46,\n",
       " 48617,\n",
       " 15264,\n",
       " 12606,\n",
       " 27418,\n",
       " 47168,\n",
       " 20024,\n",
       " 12,\n",
       " 24789,\n",
       " 47168,\n",
       " 20024,\n",
       " 43251,\n",
       " 4394,\n",
       " 14285,\n",
       " 48569,\n",
       " 48531,\n",
       " 16948,\n",
       " 36484,\n",
       " 9085,\n",
       " 11582,\n",
       " 44574,\n",
       " 49026,\n",
       " 27819,\n",
       " 36484,\n",
       " 4958,\n",
       " 25448,\n",
       " 42393,\n",
       " 2023,\n",
       " 3070,\n",
       " 36484,\n",
       " 11423,\n",
       " 12410,\n",
       " 44636,\n",
       " 4333,\n",
       " 45682,\n",
       " 48412,\n",
       " 17772,\n",
       " 27418,\n",
       " 47168,\n",
       " 20024,\n",
       " 49035,\n",
       " 13859,\n",
       " 49400,\n",
       " 13859,\n",
       " 43251,\n",
       " 4394,\n",
       " 14285,\n",
       " 46890,\n",
       " 25448,\n",
       " 48664,\n",
       " 48745,\n",
       " 8384,\n",
       " 37127,\n",
       " 18400,\n",
       " 18400,\n",
       " 48607,\n",
       " 27,\n",
       " 36484,\n",
       " 9264,\n",
       " 14292,\n",
       " 46537,\n",
       " 23133,\n",
       " 43251,\n",
       " 4394,\n",
       " 14285,\n",
       " 48991,\n",
       " 14285,\n",
       " 48569,\n",
       " 49036,\n",
       " 2023,\n",
       " 48334,\n",
       " 13859,\n",
       " 36714,\n",
       " 19002,\n",
       " 14292,\n",
       " 48731,\n",
       " 3726,\n",
       " 36714,\n",
       " 19002,\n",
       " 14292,\n",
       " 36484,\n",
       " 18400,\n",
       " 10965,\n",
       " 47356,\n",
       " 14285,\n",
       " 37127,\n",
       " 8210,\n",
       " 12410,\n",
       " 44574,\n",
       " 47973,\n",
       " 45682,\n",
       " 17,\n",
       " 48,\n",
       " 41907,\n",
       " 9264,\n",
       " 2469,\n",
       " 42393,\n",
       " 7471,\n",
       " 13859,\n",
       " 37127,\n",
       " 48985,\n",
       " 49035,\n",
       " 9085,\n",
       " 41907,\n",
       " 2023,\n",
       " 17772,\n",
       " 43251,\n",
       " 4394,\n",
       " 14285,\n",
       " 36714,\n",
       " 19002,\n",
       " 14292,\n",
       " 48731,\n",
       " 3726,\n",
       " 36714,\n",
       " 19002,\n",
       " 14292,\n",
       " 36484,\n",
       " 18400,\n",
       " 10965,\n",
       " 47356,\n",
       " 14285,\n",
       " 37127,\n",
       " 8210,\n",
       " 12410,\n",
       " 44574,\n",
       " 47973,\n",
       " 36484,\n",
       " 4958,\n",
       " 6382,\n",
       " 44574,\n",
       " 48105,\n",
       " 46499,\n",
       " 3726,\n",
       " 46499,\n",
       " 13859,\n",
       " 48617,\n",
       " 5782,\n",
       " 47876,\n",
       " 3602,\n",
       " 47089,\n",
       " 14285,\n",
       " 45895,\n",
       " 11423,\n",
       " 48664,\n",
       " 37127,\n",
       " 6382,\n",
       " 9264,\n",
       " 43251,\n",
       " 4394,\n",
       " 14285,\n",
       " 47876,\n",
       " 3602,\n",
       " 42393,\n",
       " 711,\n",
       " 6800,\n",
       " 36484,\n",
       " 15375,\n",
       " 18164,\n",
       " 47645,\n",
       " 10278,\n",
       " 47645,\n",
       " 3726,\n",
       " 37127,\n",
       " 6382,\n",
       " 9264,\n",
       " 48412,\n",
       " 6800,\n",
       " 46890,\n",
       " 25448,\n",
       " 42393,\n",
       " 7471,\n",
       " 3602,\n",
       " 44574,\n",
       " 48483,\n",
       " 46,\n",
       " 36714,\n",
       " 19002,\n",
       " 12410,\n",
       " 49257,\n",
       " 48558,\n",
       " 9357,\n",
       " 43251,\n",
       " 4394,\n",
       " 14285,\n",
       " 37127,\n",
       " 6382,\n",
       " 9264,\n",
       " 48412,\n",
       " 6800,\n",
       " 46890,\n",
       " 25448,\n",
       " 42393,\n",
       " 7471,\n",
       " 3602,\n",
       " 44574,\n",
       " 41907,\n",
       " 9264,\n",
       " 9357,\n",
       " 36484,\n",
       " 4394,\n",
       " 10965,\n",
       " 43251,\n",
       " 4394,\n",
       " 14285,\n",
       " 37127,\n",
       " 6382,\n",
       " 9264,\n",
       " 48412,\n",
       " 6800,\n",
       " 46890,\n",
       " 25448,\n",
       " 42393,\n",
       " 7471,\n",
       " 3602,\n",
       " 44574,\n",
       " 36714,\n",
       " 12736,\n",
       " 15375,\n",
       " 48820,\n",
       " 15722,\n",
       " 47341,\n",
       " 47876,\n",
       " 7487,\n",
       " 47356,\n",
       " 9085,\n",
       " 47341,\n",
       " 47876,\n",
       " 7487,\n",
       " 49127,\n",
       " 8210,\n",
       " 45682,\n",
       " 17,\n",
       " 46,\n",
       " 42393,\n",
       " 4333,\n",
       " 3070,\n",
       " 47240,\n",
       " 4394,\n",
       " 49065,\n",
       " 49075,\n",
       " 8384,\n",
       " 44574,\n",
       " 49026,\n",
       " 27819,\n",
       " 36484,\n",
       " 4958,\n",
       " 25448,\n",
       " 42393,\n",
       " 2023,\n",
       " 3070,\n",
       " 36484,\n",
       " 11423,\n",
       " 12410,\n",
       " 43251,\n",
       " 4394,\n",
       " 14285,\n",
       " 22748,\n",
       " 47168,\n",
       " 20024,\n",
       " 43251,\n",
       " 4394,\n",
       " 14285,\n",
       " 47842,\n",
       " 15113,\n",
       " 48412,\n",
       " 18400,\n",
       " 42393,\n",
       " 10172,\n",
       " 15113,\n",
       " 46499,\n",
       " 27819,\n",
       " 36714,\n",
       " 11582,\n",
       " 11582,\n",
       " 48105,\n",
       " 49488,\n",
       " 36484,\n",
       " 15375,\n",
       " 18164,\n",
       " 41907,\n",
       " 14285,\n",
       " 10965,\n",
       " 47873,\n",
       " 7258,\n",
       " 42393,\n",
       " 9085,\n",
       " 10172,\n",
       " 42393,\n",
       " 6800,\n",
       " 11423,\n",
       " 48823,\n",
       " 18537,\n",
       " 36714,\n",
       " 19002,\n",
       " 14292,\n",
       " 43251,\n",
       " 4394,\n",
       " 14285,\n",
       " 10684,\n",
       " 47168,\n",
       " 20024,\n",
       " 42393,\n",
       " 10172,\n",
       " 15113,\n",
       " 48635,\n",
       " 3070,\n",
       " 46499,\n",
       " 27819,\n",
       " 36714,\n",
       " 11582,\n",
       " 11582,\n",
       " 46499,\n",
       " 14285,\n",
       " 49488,\n",
       " 36484,\n",
       " 15375,\n",
       " 18164,\n",
       " 41907,\n",
       " 14285,\n",
       " 10965,\n",
       " 47873,\n",
       " 7258,\n",
       " 42393,\n",
       " 9085,\n",
       " 10172,\n",
       " 47842,\n",
       " 8384,\n",
       " 42393,\n",
       " 15722,\n",
       " 27969,\n",
       " 36714,\n",
       " 19002,\n",
       " 14292,\n",
       " 43251,\n",
       " 4394,\n",
       " 14285,\n",
       " 16310,\n",
       " 47168,\n",
       " 20024,\n",
       " 401,\n",
       " 44636,\n",
       " 23133,\n",
       " 401,\n",
       " 47954,\n",
       " 8210,\n",
       " 45895,\n",
       " 11423,\n",
       " 41907,\n",
       " 46,\n",
       " 7258,\n",
       " 36484,\n",
       " 10809,\n",
       " 23171,\n",
       " 47166,\n",
       " 7487,\n",
       " 49534,\n",
       " 16948,\n",
       " 41907,\n",
       " 9264,\n",
       " 9357,\n",
       " 48823,\n",
       " 18537,\n",
       " 41907,\n",
       " 27,\n",
       " 7258,\n",
       " 42393,\n",
       " 10172,\n",
       " 15113,\n",
       " 48328,\n",
       " 20024,\n",
       " 37127,\n",
       " 10659,\n",
       " 12410,\n",
       " 45682,\n",
       " 48531,\n",
       " 16948,\n",
       " 36484,\n",
       " 9085,\n",
       " 11582,\n",
       " 48537,\n",
       " 8384,\n",
       " 36714,\n",
       " 9264,\n",
       " 3070,\n",
       " 43251,\n",
       " 4394,\n",
       " 14285,\n",
       " 41907,\n",
       " 7258,\n",
       " 11423,\n",
       " 49124,\n",
       " 4394,\n",
       " 48569,\n",
       " 42393,\n",
       " 862,\n",
       " 9253,\n",
       " 42393,\n",
       " 7471,\n",
       " 4394,\n",
       " 36484,\n",
       " 6248,\n",
       " 7471,\n",
       " 44574,\n",
       " 47983,\n",
       " 25448,\n",
       " 42393,\n",
       " 2023,\n",
       " 19002,\n",
       " 43251,\n",
       " 4394,\n",
       " 14285,\n",
       " 45895,\n",
       " 6248,\n",
       " 48765,\n",
       " 862,\n",
       " 44574,\n",
       " 36484,\n",
       " 10809,\n",
       " 23171,\n",
       " 36484,\n",
       " 2840,\n",
       " 27969,\n",
       " 48412,\n",
       " 23133,\n",
       " 47994,\n",
       " ...]"
      ]
     },
     "execution_count": 37,
     "metadata": {},
     "output_type": "execute_result"
    }
   ],
   "source": [
    "tokenize_train_data[\"input_ids\"][0]"
   ]
  },
  {
   "cell_type": "markdown",
   "metadata": {},
   "source": [
    "# Define Dataset"
   ]
  },
  {
   "cell_type": "code",
   "execution_count": 38,
   "metadata": {},
   "outputs": [],
   "source": [
    "import torch\n",
    "class ChineseDataset(torch.utils.data.Dataset):\n",
    "    def __init__(self, encodings):\n",
    "        self.encodings = encodings\n",
    "\n",
    "    def __getitem__(self, idx):\n",
    "        return {key: torch.tensor(val[idx]) for key, val in self.encodings.items()}\n",
    "\n",
    "    def __len__(self):\n",
    "        return len(self.encodings.input_ids)\n",
    "\n",
    "train_data =ChineseDataset(tokenize_train_data)\n",
    "val_data =ChineseDataset(tokenize_val_data)\n",
    "test_data =ChineseDataset(tokenize_test_data)"
   ]
  },
  {
   "cell_type": "code",
   "execution_count": 39,
   "metadata": {},
   "outputs": [
    {
     "data": {
      "text/plain": [
       "{'input_ids': tensor([    0, 47983, 15113,  ...,  8210,  9470,     2]),\n",
       " 'attention_mask': tensor([1, 1, 1,  ..., 1, 1, 1]),\n",
       " 'labels': tensor([    0, 47842, 15113, 48412, 18400, 45262, 11582, 49035, 13859, 46499,\n",
       "         27819, 46015,  2023, 41907,  5543, 14285, 36714,  9264,  3070,    17,\n",
       "            48, 47994,  8384, 48998,   578, 48105, 42393, 21402, 20024, 48765,\n",
       "          6800, 46537, 11423, 36714,  9264,  4958, 48991,  7471, 44574, 47994,\n",
       "         13859, 48635,  3070, 44636,   862,    17,    46, 43251,  4394, 14285,\n",
       "         37127, 27969,  4958, 41907,    48, 14292,   246, 44636, 23133, 46890,\n",
       "         10809, 36714,  6382,  4333, 37127, 10674, 49363, 15722, 18537, 48823,\n",
       "          6800, 43251,  4394, 15113,  5479,  1749, 36484, 16948, 11582, 43251,\n",
       "          4394, 14285, 47504, 14285, 37127, 10965, 10674, 42393,  7258, 17772,\n",
       "         41907, 15722, 18400,  1866,   207, 45682,     2,     1,     1,     1,\n",
       "             1,     1,     1,     1,     1,     1,     1,     1,     1,     1,\n",
       "             1,     1,     1,     1,     1,     1,     1,     1,     1,     1,\n",
       "             1,     1,     1,     1,     1,     1,     1,     1,     1,     1,\n",
       "             1,     1,     1,     1,     1,     1,     1,     1,     1,     1,\n",
       "             1,     1,     1,     1,     1,     1,     1,     1,     1,     1,\n",
       "             1,     1,     1,     1,     1,     1,     1,     1,     1,     1,\n",
       "             1,     1,     1,     1,     1,     1,     1,     1,     1,     1,\n",
       "             1,     1,     1,     1,     1,     1,     1,     1,     1,     1,\n",
       "             1,     1,     1,     1,     1,     1,     1,     1,     1,     1,\n",
       "             1,     1,     1,     1,     1,     1,     1,     1,     1,     1,\n",
       "             1,     1,     1,     1,     1,     1,     1,     1,     1,     1,\n",
       "             1,     1,     1,     1,     1,     1,     1,     1,     1,     1,\n",
       "             1,     1,     1,     1,     1,     1,     1,     1,     1,     1,\n",
       "             1,     1,     1,     1,     1,     1,     1,     1,     1,     1,\n",
       "             1,     1,     1,     1,     1,     1,     1,     1,     1,     1,\n",
       "             1,     1,     1,     1,     1,     1,     1,     1,     1,     1,\n",
       "             1,     1,     1,     1,     1,     1,     1,     1,     1,     1,\n",
       "             1,     1,     1,     1,     1,     1,     1,     1,     1,     1,\n",
       "             1,     1,     1,     1,     1,     1,     1,     1,     1,     1,\n",
       "             1,     1,     1,     1,     1,     1,     1,     1,     1,     1,\n",
       "             1,     1,     1,     1,     1,     1,     1,     1,     1,     1,\n",
       "             1,     1,     1,     1,     1,     1,     1,     1,     1,     1,\n",
       "             1,     1,     1,     1,     1,     1,     1,     1,     1,     1,\n",
       "             1,     1,     1,     1,     1,     1,     1,     1,     1,     1,\n",
       "             1,     1,     1,     1,     1,     1,     1,     1,     1,     1,\n",
       "             1,     1,     1,     1,     1,     1,     1,     1,     1,     1,\n",
       "             1,     1,     1,     1,     1,     1,     1,     1,     1,     1,\n",
       "             1,     1,     1,     1,     1,     1,     1,     1,     1,     1,\n",
       "             1,     1,     1,     1,     1,     1,     1,     1,     1,     1,\n",
       "             1,     1,     1,     1,     1,     1,     1,     1,     1,     1,\n",
       "             1,     1,     1,     1,     1,     1,     1,     1,     1,     1,\n",
       "             1,     1,     1,     1,     1,     1,     1,     1,     1,     1,\n",
       "             1,     1,     1,     1,     1,     1,     1,     1,     1,     1,\n",
       "             1,     1,     1,     1,     1,     1,     1,     1,     1,     1,\n",
       "             1,     1,     1,     1,     1,     1,     1,     1,     1,     1,\n",
       "             1,     1,     1,     1,     1,     1,     1,     1,     1,     1,\n",
       "             1,     1,     1,     1,     1,     1,     1,     1,     1,     1,\n",
       "             1,     1,     1,     1,     1,     1,     1,     1,     1,     1,\n",
       "             1,     1,     1,     1,     1,     1,     1,     1,     1,     1,\n",
       "             1,     1,     1,     1,     1,     1,     1,     1,     1,     1,\n",
       "             1,     1,     1,     1,     1,     1,     1,     1,     1,     1,\n",
       "             1,     1,     1,     1,     1,     1,     1,     1,     1,     1,\n",
       "             1,     1,     1,     1,     1,     1,     1,     1,     1,     1,\n",
       "             1,     1,     1,     1,     1])}"
      ]
     },
     "execution_count": 39,
     "metadata": {},
     "output_type": "execute_result"
    }
   ],
   "source": [
    "train_data[0]"
   ]
  },
  {
   "cell_type": "code",
   "execution_count": 40,
   "metadata": {},
   "outputs": [],
   "source": [
    "import logging\n",
    "import datasets\n",
    "from datasets import load_dataset, load_metric\n",
    "from torch.utils.data import DataLoader\n",
    "from tqdm.auto import tqdm, trange\n",
    "import math\n",
    "import gc\n",
    "\n",
    "import transformers\n",
    "from accelerate import Accelerator\n",
    "from transformers import (\n",
    "    AdamW,\n",
    "    AutoConfig,\n",
    "    default_data_collator,\n",
    "    get_scheduler\n",
    ")"
   ]
  },
  {
   "cell_type": "code",
   "execution_count": 41,
   "metadata": {},
   "outputs": [],
   "source": [
    "train_batch_size = 5      # 設定 training batch size\n",
    "eval_batch_size = 5     # 設定 eval batch size\n",
    "num_train_epochs = 12      # 設定 epoch"
   ]
  },
  {
   "cell_type": "code",
   "execution_count": 42,
   "metadata": {},
   "outputs": [],
   "source": [
    "data_collator = default_data_collator\n",
    "train_dataloader = DataLoader(train_data, shuffle=True, collate_fn=data_collator, batch_size=train_batch_size)\n",
    "eval_dataloader = DataLoader(val_data, collate_fn=data_collator, batch_size=eval_batch_size)"
   ]
  },
  {
   "cell_type": "code",
   "execution_count": 43,
   "metadata": {},
   "outputs": [
    {
     "name": "stdout",
     "output_type": "stream",
     "text": [
      "3133\n",
      "15662\n"
     ]
    }
   ],
   "source": [
    "print(len(train_dataloader))\n",
    "print(len(train_data))"
   ]
  },
  {
   "cell_type": "markdown",
   "metadata": {},
   "source": [
    "# Prepare Training"
   ]
  },
  {
   "cell_type": "code",
   "execution_count": 44,
   "metadata": {},
   "outputs": [
    {
     "name": "stderr",
     "output_type": "stream",
     "text": [
      "/user_data/.local/lib/python3.10/site-packages/transformers/optimization.py:411: FutureWarning: This implementation of AdamW is deprecated and will be removed in a future version. Use the PyTorch implementation torch.optim.AdamW instead, or set `no_deprecation_warning=True` to disable this warning\n",
      "  warnings.warn(\n",
      "WARNING:accelerate.utils.other:Detected kernel version 5.4.0, which is below the recommended minimum of 5.5.0; this can cause the process to hang. It is recommended to upgrade the kernel to the minimum version or higher.\n"
     ]
    },
    {
     "name": "stdout",
     "output_type": "stream",
     "text": [
      "max_train_steps 18804\n"
     ]
    }
   ],
   "source": [
    "from transformers import BartForConditionalGeneration\n",
    "\n",
    "model = BartForConditionalGeneration.from_pretrained(\"facebook/bart-base\")\n",
    "\n",
    "# initialize optimizer\n",
    "learning_rate=1e-5          # 設定 learning_rate\n",
    "no_decay = [\"bias\", \"LayerNorm.weight\"]\n",
    "optimizer_grouped_parameters = [\n",
    "    {\n",
    "        \"params\": [p for n, p in model.named_parameters() if not any(nd in n for nd in no_decay)],\n",
    "        \"weight_decay\": 0.0,\n",
    "    },\n",
    "    {\n",
    "        \"params\": [p for n, p in model.named_parameters() if any(nd in n for nd in no_decay)],\n",
    "        \"weight_decay\": 0.0,\n",
    "    },\n",
    "]\n",
    "optimizer = AdamW(optimizer_grouped_parameters, lr=learning_rate)\n",
    "\n",
    "# Scheduler and math around the number of training steps.\n",
    "gradient_accumulation_steps = 2   # 設定幾步後進行反向傳播\n",
    "\n",
    "num_update_steps_per_epoch = math.ceil(len(train_dataloader) / gradient_accumulation_steps)\n",
    "max_train_steps = num_train_epochs * num_update_steps_per_epoch\n",
    "print('max_train_steps', max_train_steps)\n",
    "\n",
    "# scheduler\n",
    "lr_scheduler = get_scheduler(\n",
    "    name=\"linear\",\n",
    "    optimizer=optimizer,\n",
    "    num_warmup_steps=0,\n",
    "    num_training_steps=max_train_steps,\n",
    ")\n",
    "\n",
    "# Initialize the accelerator. We will let the accelerator handle device placement for us in this example.\n",
    "accelerator = Accelerator(gradient_accumulation_steps=gradient_accumulation_steps)\n",
    "\n",
    "# Prepare everything with our `accelerator`.\n",
    "model, optimizer, train_dataloader, eval_dataloader = accelerator.prepare(\n",
    "    model, optimizer, train_dataloader, eval_dataloader\n",
    ")"
   ]
  },
  {
   "cell_type": "markdown",
   "metadata": {},
   "source": [
    "# Train"
   ]
  },
  {
   "cell_type": "code",
   "execution_count": 45,
   "metadata": {},
   "outputs": [
    {
     "name": "stderr",
     "output_type": "stream",
     "text": [
      "Epoch:   0%|          | 0/12 [00:00<?, ?it/s]"
     ]
    },
    {
     "name": "stdout",
     "output_type": "stream",
     "text": [
      "{'epoch': 0, 'step': 0, 'loss': 12.889228820800781}\n"
     ]
    },
    {
     "name": "stderr",
     "output_type": "stream",
     "text": []
    },
    {
     "name": "stdout",
     "output_type": "stream",
     "text": [
      "{'epoch': 0, 'step': 100, 'loss': 4.848992347717285}\n"
     ]
    },
    {
     "name": "stderr",
     "output_type": "stream",
     "text": []
    },
    {
     "name": "stdout",
     "output_type": "stream",
     "text": [
      "{'epoch': 0, 'step': 200, 'loss': 3.045048475265503}\n"
     ]
    },
    {
     "name": "stderr",
     "output_type": "stream",
     "text": []
    },
    {
     "name": "stdout",
     "output_type": "stream",
     "text": [
      "{'epoch': 0, 'step': 300, 'loss': 2.445564031600952}\n"
     ]
    },
    {
     "name": "stderr",
     "output_type": "stream",
     "text": []
    },
    {
     "name": "stdout",
     "output_type": "stream",
     "text": [
      "{'epoch': 0, 'step': 400, 'loss': 1.097427487373352}\n"
     ]
    },
    {
     "name": "stderr",
     "output_type": "stream",
     "text": []
    },
    {
     "name": "stdout",
     "output_type": "stream",
     "text": [
      "{'epoch': 0, 'step': 500, 'loss': 0.7416189312934875}\n"
     ]
    },
    {
     "name": "stderr",
     "output_type": "stream",
     "text": []
    },
    {
     "name": "stdout",
     "output_type": "stream",
     "text": [
      "{'epoch': 0, 'step': 600, 'loss': 0.405283659696579}\n"
     ]
    },
    {
     "name": "stderr",
     "output_type": "stream",
     "text": []
    },
    {
     "name": "stdout",
     "output_type": "stream",
     "text": [
      "{'epoch': 0, 'step': 700, 'loss': 0.6285397410392761}\n"
     ]
    },
    {
     "name": "stderr",
     "output_type": "stream",
     "text": []
    },
    {
     "name": "stdout",
     "output_type": "stream",
     "text": [
      "{'epoch': 0, 'step': 800, 'loss': 0.5187814235687256}\n"
     ]
    },
    {
     "name": "stderr",
     "output_type": "stream",
     "text": []
    },
    {
     "name": "stdout",
     "output_type": "stream",
     "text": [
      "{'epoch': 0, 'step': 900, 'loss': 0.4985881447792053}\n"
     ]
    },
    {
     "name": "stderr",
     "output_type": "stream",
     "text": []
    },
    {
     "name": "stdout",
     "output_type": "stream",
     "text": [
      "{'epoch': 0, 'step': 1000, 'loss': 0.30311456322669983}\n"
     ]
    },
    {
     "name": "stderr",
     "output_type": "stream",
     "text": []
    },
    {
     "name": "stdout",
     "output_type": "stream",
     "text": [
      "{'epoch': 0, 'step': 1100, 'loss': 0.13909849524497986}\n"
     ]
    },
    {
     "name": "stderr",
     "output_type": "stream",
     "text": []
    },
    {
     "name": "stdout",
     "output_type": "stream",
     "text": [
      "{'epoch': 0, 'step': 1200, 'loss': 0.3101493716239929}\n"
     ]
    },
    {
     "name": "stderr",
     "output_type": "stream",
     "text": []
    },
    {
     "name": "stdout",
     "output_type": "stream",
     "text": [
      "{'epoch': 0, 'step': 1300, 'loss': 0.17347228527069092}\n"
     ]
    },
    {
     "name": "stderr",
     "output_type": "stream",
     "text": []
    },
    {
     "name": "stdout",
     "output_type": "stream",
     "text": [
      "{'epoch': 0, 'step': 1400, 'loss': 0.37995484471321106}\n"
     ]
    },
    {
     "name": "stderr",
     "output_type": "stream",
     "text": []
    },
    {
     "name": "stdout",
     "output_type": "stream",
     "text": [
      "{'epoch': 0, 'step': 1500, 'loss': 0.3979204297065735}\n"
     ]
    },
    {
     "name": "stderr",
     "output_type": "stream",
     "text": []
    },
    {
     "name": "stdout",
     "output_type": "stream",
     "text": [
      "{'epoch': 0, 'step': 1600, 'loss': 0.3643837869167328}\n"
     ]
    },
    {
     "name": "stderr",
     "output_type": "stream",
     "text": []
    },
    {
     "name": "stdout",
     "output_type": "stream",
     "text": [
      "{'epoch': 0, 'step': 1700, 'loss': 0.29693394899368286}\n"
     ]
    },
    {
     "name": "stderr",
     "output_type": "stream",
     "text": []
    },
    {
     "name": "stdout",
     "output_type": "stream",
     "text": [
      "{'epoch': 0, 'step': 1800, 'loss': 0.5244865417480469}\n"
     ]
    },
    {
     "name": "stderr",
     "output_type": "stream",
     "text": []
    },
    {
     "name": "stdout",
     "output_type": "stream",
     "text": [
      "{'epoch': 0, 'step': 1900, 'loss': 0.15014050900936127}\n"
     ]
    },
    {
     "name": "stderr",
     "output_type": "stream",
     "text": []
    },
    {
     "name": "stdout",
     "output_type": "stream",
     "text": [
      "{'epoch': 0, 'step': 2000, 'loss': 0.3011181354522705}\n"
     ]
    },
    {
     "name": "stderr",
     "output_type": "stream",
     "text": []
    },
    {
     "name": "stdout",
     "output_type": "stream",
     "text": [
      "{'epoch': 0, 'step': 2100, 'loss': 0.3289421796798706}\n"
     ]
    },
    {
     "name": "stderr",
     "output_type": "stream",
     "text": []
    },
    {
     "name": "stdout",
     "output_type": "stream",
     "text": [
      "{'epoch': 0, 'step': 2200, 'loss': 0.09713345021009445}\n"
     ]
    },
    {
     "name": "stderr",
     "output_type": "stream",
     "text": []
    },
    {
     "name": "stdout",
     "output_type": "stream",
     "text": [
      "{'epoch': 0, 'step': 2300, 'loss': 0.43208181858062744}\n"
     ]
    },
    {
     "name": "stderr",
     "output_type": "stream",
     "text": []
    },
    {
     "name": "stdout",
     "output_type": "stream",
     "text": [
      "{'epoch': 0, 'step': 2400, 'loss': 0.14751921594142914}\n"
     ]
    },
    {
     "name": "stderr",
     "output_type": "stream",
     "text": []
    },
    {
     "name": "stdout",
     "output_type": "stream",
     "text": [
      "{'epoch': 0, 'step': 2500, 'loss': 0.06378649175167084}\n"
     ]
    },
    {
     "name": "stderr",
     "output_type": "stream",
     "text": []
    },
    {
     "name": "stdout",
     "output_type": "stream",
     "text": [
      "{'epoch': 0, 'step': 2600, 'loss': 0.2023579478263855}\n"
     ]
    },
    {
     "name": "stderr",
     "output_type": "stream",
     "text": []
    },
    {
     "name": "stdout",
     "output_type": "stream",
     "text": [
      "{'epoch': 0, 'step': 2700, 'loss': 0.21351391077041626}\n"
     ]
    },
    {
     "name": "stderr",
     "output_type": "stream",
     "text": []
    },
    {
     "name": "stdout",
     "output_type": "stream",
     "text": [
      "{'epoch': 0, 'step': 2800, 'loss': 0.08588997274637222}\n"
     ]
    },
    {
     "name": "stderr",
     "output_type": "stream",
     "text": []
    },
    {
     "name": "stdout",
     "output_type": "stream",
     "text": [
      "{'epoch': 0, 'step': 2900, 'loss': 0.16666048765182495}\n"
     ]
    },
    {
     "name": "stderr",
     "output_type": "stream",
     "text": []
    },
    {
     "name": "stdout",
     "output_type": "stream",
     "text": [
      "{'epoch': 0, 'step': 3000, 'loss': 0.07759515196084976}\n"
     ]
    },
    {
     "name": "stderr",
     "output_type": "stream",
     "text": []
    },
    {
     "name": "stdout",
     "output_type": "stream",
     "text": [
      "{'epoch': 0, 'step': 3100, 'loss': 0.08021101355552673}\n"
     ]
    },
    {
     "name": "stderr",
     "output_type": "stream",
     "text": [
      "Iteration: 100%|██████████| 3133/3133 [22:43<00:00,  2.30it/s]\n",
      "Eval Iteration: 100%|██████████| 784/784 [13:46<00:00,  1.05s/it]\n",
      "Epoch:   8%|▊         | 1/12 [36:30<6:41:31, 2190.11s/it]"
     ]
    },
    {
     "name": "stdout",
     "output_type": "stream",
     "text": [
      "{'rouge1': 0.3202266449909673, 'rouge2': 0.1731223274009348, 'rougeL': 0.31451807965172074, 'rougeLsum': 0.31562053997831235}\n"
     ]
    },
    {
     "name": "stderr",
     "output_type": "stream",
     "text": []
    },
    {
     "name": "stdout",
     "output_type": "stream",
     "text": [
      "{'epoch': 1, 'step': 0, 'loss': 0.28170251846313477}\n"
     ]
    },
    {
     "name": "stderr",
     "output_type": "stream",
     "text": []
    },
    {
     "name": "stdout",
     "output_type": "stream",
     "text": [
      "{'epoch': 1, 'step': 100, 'loss': 0.07619999349117279}\n"
     ]
    },
    {
     "name": "stderr",
     "output_type": "stream",
     "text": []
    },
    {
     "name": "stdout",
     "output_type": "stream",
     "text": [
      "{'epoch': 1, 'step': 200, 'loss': 0.16184821724891663}\n"
     ]
    },
    {
     "name": "stderr",
     "output_type": "stream",
     "text": []
    },
    {
     "name": "stdout",
     "output_type": "stream",
     "text": [
      "{'epoch': 1, 'step': 300, 'loss': 0.17447973787784576}\n"
     ]
    },
    {
     "name": "stderr",
     "output_type": "stream",
     "text": []
    },
    {
     "name": "stdout",
     "output_type": "stream",
     "text": [
      "{'epoch': 1, 'step': 400, 'loss': 0.06714515388011932}\n"
     ]
    },
    {
     "name": "stderr",
     "output_type": "stream",
     "text": []
    },
    {
     "name": "stdout",
     "output_type": "stream",
     "text": [
      "{'epoch': 1, 'step': 500, 'loss': 0.09379506856203079}\n"
     ]
    },
    {
     "name": "stderr",
     "output_type": "stream",
     "text": []
    },
    {
     "name": "stdout",
     "output_type": "stream",
     "text": [
      "{'epoch': 1, 'step': 600, 'loss': 0.07512333244085312}\n"
     ]
    },
    {
     "name": "stderr",
     "output_type": "stream",
     "text": []
    },
    {
     "name": "stdout",
     "output_type": "stream",
     "text": [
      "{'epoch': 1, 'step': 700, 'loss': 0.19536803662776947}\n"
     ]
    },
    {
     "name": "stderr",
     "output_type": "stream",
     "text": []
    },
    {
     "name": "stdout",
     "output_type": "stream",
     "text": [
      "{'epoch': 1, 'step': 800, 'loss': 0.16478408873081207}\n"
     ]
    },
    {
     "name": "stderr",
     "output_type": "stream",
     "text": []
    },
    {
     "name": "stdout",
     "output_type": "stream",
     "text": [
      "{'epoch': 1, 'step': 900, 'loss': 0.5126579999923706}\n"
     ]
    },
    {
     "name": "stderr",
     "output_type": "stream",
     "text": []
    },
    {
     "name": "stdout",
     "output_type": "stream",
     "text": [
      "{'epoch': 1, 'step': 1000, 'loss': 0.11856036633253098}\n"
     ]
    },
    {
     "name": "stderr",
     "output_type": "stream",
     "text": []
    },
    {
     "name": "stdout",
     "output_type": "stream",
     "text": [
      "{'epoch': 1, 'step': 1100, 'loss': 0.08785701543092728}\n"
     ]
    },
    {
     "name": "stderr",
     "output_type": "stream",
     "text": []
    },
    {
     "name": "stdout",
     "output_type": "stream",
     "text": [
      "{'epoch': 1, 'step': 1200, 'loss': 0.08683167397975922}\n"
     ]
    },
    {
     "name": "stderr",
     "output_type": "stream",
     "text": []
    },
    {
     "name": "stdout",
     "output_type": "stream",
     "text": [
      "{'epoch': 1, 'step': 1300, 'loss': 0.15304253995418549}\n"
     ]
    },
    {
     "name": "stderr",
     "output_type": "stream",
     "text": []
    },
    {
     "name": "stdout",
     "output_type": "stream",
     "text": [
      "{'epoch': 1, 'step': 1400, 'loss': 0.03198062628507614}\n"
     ]
    },
    {
     "name": "stderr",
     "output_type": "stream",
     "text": []
    },
    {
     "name": "stdout",
     "output_type": "stream",
     "text": [
      "{'epoch': 1, 'step': 1500, 'loss': 0.21564503014087677}\n"
     ]
    },
    {
     "name": "stderr",
     "output_type": "stream",
     "text": []
    },
    {
     "name": "stdout",
     "output_type": "stream",
     "text": [
      "{'epoch': 1, 'step': 1600, 'loss': 0.06247692182660103}\n"
     ]
    },
    {
     "name": "stderr",
     "output_type": "stream",
     "text": []
    },
    {
     "name": "stdout",
     "output_type": "stream",
     "text": [
      "{'epoch': 1, 'step': 1700, 'loss': 0.21011409163475037}\n"
     ]
    },
    {
     "name": "stderr",
     "output_type": "stream",
     "text": []
    },
    {
     "name": "stdout",
     "output_type": "stream",
     "text": [
      "{'epoch': 1, 'step': 1800, 'loss': 0.28388023376464844}\n"
     ]
    },
    {
     "name": "stderr",
     "output_type": "stream",
     "text": []
    },
    {
     "name": "stdout",
     "output_type": "stream",
     "text": [
      "{'epoch': 1, 'step': 1900, 'loss': 0.09377554804086685}\n"
     ]
    },
    {
     "name": "stderr",
     "output_type": "stream",
     "text": []
    },
    {
     "name": "stdout",
     "output_type": "stream",
     "text": [
      "{'epoch': 1, 'step': 2000, 'loss': 0.18689505755901337}\n"
     ]
    },
    {
     "name": "stderr",
     "output_type": "stream",
     "text": []
    },
    {
     "name": "stdout",
     "output_type": "stream",
     "text": [
      "{'epoch': 1, 'step': 2100, 'loss': 0.04069909825921059}\n"
     ]
    },
    {
     "name": "stderr",
     "output_type": "stream",
     "text": []
    },
    {
     "name": "stdout",
     "output_type": "stream",
     "text": [
      "{'epoch': 1, 'step': 2200, 'loss': 0.3868943452835083}\n"
     ]
    },
    {
     "name": "stderr",
     "output_type": "stream",
     "text": []
    },
    {
     "name": "stdout",
     "output_type": "stream",
     "text": [
      "{'epoch': 1, 'step': 2300, 'loss': 0.11891845613718033}\n"
     ]
    },
    {
     "name": "stderr",
     "output_type": "stream",
     "text": []
    },
    {
     "name": "stdout",
     "output_type": "stream",
     "text": [
      "{'epoch': 1, 'step': 2400, 'loss': 0.10124387592077255}\n"
     ]
    },
    {
     "name": "stderr",
     "output_type": "stream",
     "text": []
    },
    {
     "name": "stdout",
     "output_type": "stream",
     "text": [
      "{'epoch': 1, 'step': 2500, 'loss': 0.16596007347106934}\n"
     ]
    },
    {
     "name": "stderr",
     "output_type": "stream",
     "text": []
    },
    {
     "name": "stdout",
     "output_type": "stream",
     "text": [
      "{'epoch': 1, 'step': 2600, 'loss': 0.2923198938369751}\n"
     ]
    },
    {
     "name": "stderr",
     "output_type": "stream",
     "text": []
    },
    {
     "name": "stdout",
     "output_type": "stream",
     "text": [
      "{'epoch': 1, 'step': 2700, 'loss': 0.27554580569267273}\n"
     ]
    },
    {
     "name": "stderr",
     "output_type": "stream",
     "text": []
    },
    {
     "name": "stdout",
     "output_type": "stream",
     "text": [
      "{'epoch': 1, 'step': 2800, 'loss': 0.564484179019928}\n"
     ]
    },
    {
     "name": "stderr",
     "output_type": "stream",
     "text": []
    },
    {
     "name": "stdout",
     "output_type": "stream",
     "text": [
      "{'epoch': 1, 'step': 2900, 'loss': 0.13940295577049255}\n"
     ]
    },
    {
     "name": "stderr",
     "output_type": "stream",
     "text": []
    },
    {
     "name": "stdout",
     "output_type": "stream",
     "text": [
      "{'epoch': 1, 'step': 3000, 'loss': 0.3687622547149658}\n"
     ]
    },
    {
     "name": "stderr",
     "output_type": "stream",
     "text": []
    },
    {
     "name": "stdout",
     "output_type": "stream",
     "text": [
      "{'epoch': 1, 'step': 3100, 'loss': 0.05686414986848831}\n"
     ]
    },
    {
     "name": "stderr",
     "output_type": "stream",
     "text": [
      "Iteration: 100%|██████████| 3133/3133 [22:48<00:00,  2.29it/s]\n",
      "Eval Iteration: 100%|██████████| 784/784 [12:35<00:00,  1.04it/s]\n",
      "Epoch:  17%|█▋        | 2/12 [1:11:54<5:58:32, 2151.27s/it]"
     ]
    },
    {
     "name": "stdout",
     "output_type": "stream",
     "text": [
      "{'rouge1': 0.3338443567738659, 'rouge2': 0.17233873693385, 'rougeL': 0.3270126270520246, 'rougeLsum': 0.32736149574147755}\n"
     ]
    },
    {
     "name": "stderr",
     "output_type": "stream",
     "text": []
    },
    {
     "name": "stdout",
     "output_type": "stream",
     "text": [
      "{'epoch': 2, 'step': 0, 'loss': 0.2810678780078888}\n"
     ]
    },
    {
     "name": "stderr",
     "output_type": "stream",
     "text": []
    },
    {
     "name": "stdout",
     "output_type": "stream",
     "text": [
      "{'epoch': 2, 'step': 100, 'loss': 0.41227343678474426}\n"
     ]
    },
    {
     "name": "stderr",
     "output_type": "stream",
     "text": []
    },
    {
     "name": "stdout",
     "output_type": "stream",
     "text": [
      "{'epoch': 2, 'step': 200, 'loss': 0.10326669365167618}\n"
     ]
    },
    {
     "name": "stderr",
     "output_type": "stream",
     "text": []
    },
    {
     "name": "stdout",
     "output_type": "stream",
     "text": [
      "{'epoch': 2, 'step': 300, 'loss': 0.11005012691020966}\n"
     ]
    },
    {
     "name": "stderr",
     "output_type": "stream",
     "text": []
    },
    {
     "name": "stdout",
     "output_type": "stream",
     "text": [
      "{'epoch': 2, 'step': 400, 'loss': 0.035861190408468246}\n"
     ]
    },
    {
     "name": "stderr",
     "output_type": "stream",
     "text": []
    },
    {
     "name": "stdout",
     "output_type": "stream",
     "text": [
      "{'epoch': 2, 'step': 500, 'loss': 0.09151492267847061}\n"
     ]
    },
    {
     "name": "stderr",
     "output_type": "stream",
     "text": []
    },
    {
     "name": "stdout",
     "output_type": "stream",
     "text": [
      "{'epoch': 2, 'step': 600, 'loss': 0.09536270797252655}\n"
     ]
    },
    {
     "name": "stderr",
     "output_type": "stream",
     "text": []
    },
    {
     "name": "stdout",
     "output_type": "stream",
     "text": [
      "{'epoch': 2, 'step': 700, 'loss': 0.22248610854148865}\n"
     ]
    },
    {
     "name": "stderr",
     "output_type": "stream",
     "text": []
    },
    {
     "name": "stdout",
     "output_type": "stream",
     "text": [
      "{'epoch': 2, 'step': 800, 'loss': 0.07962332665920258}\n"
     ]
    },
    {
     "name": "stderr",
     "output_type": "stream",
     "text": []
    },
    {
     "name": "stdout",
     "output_type": "stream",
     "text": [
      "{'epoch': 2, 'step': 900, 'loss': 0.0494743175804615}\n"
     ]
    },
    {
     "name": "stderr",
     "output_type": "stream",
     "text": []
    },
    {
     "name": "stdout",
     "output_type": "stream",
     "text": [
      "{'epoch': 2, 'step': 1000, 'loss': 0.574658989906311}\n"
     ]
    },
    {
     "name": "stderr",
     "output_type": "stream",
     "text": []
    },
    {
     "name": "stdout",
     "output_type": "stream",
     "text": [
      "{'epoch': 2, 'step': 1100, 'loss': 0.24466300010681152}\n"
     ]
    },
    {
     "name": "stderr",
     "output_type": "stream",
     "text": []
    },
    {
     "name": "stdout",
     "output_type": "stream",
     "text": [
      "{'epoch': 2, 'step': 1200, 'loss': 0.2402663677930832}\n"
     ]
    },
    {
     "name": "stderr",
     "output_type": "stream",
     "text": []
    },
    {
     "name": "stdout",
     "output_type": "stream",
     "text": [
      "{'epoch': 2, 'step': 1300, 'loss': 0.6783084869384766}\n"
     ]
    },
    {
     "name": "stderr",
     "output_type": "stream",
     "text": []
    },
    {
     "name": "stdout",
     "output_type": "stream",
     "text": [
      "{'epoch': 2, 'step': 1400, 'loss': 0.3384923040866852}\n"
     ]
    },
    {
     "name": "stderr",
     "output_type": "stream",
     "text": []
    },
    {
     "name": "stdout",
     "output_type": "stream",
     "text": [
      "{'epoch': 2, 'step': 1500, 'loss': 0.3381820023059845}\n"
     ]
    },
    {
     "name": "stderr",
     "output_type": "stream",
     "text": []
    },
    {
     "name": "stdout",
     "output_type": "stream",
     "text": [
      "{'epoch': 2, 'step': 1600, 'loss': 0.14836062490940094}\n"
     ]
    },
    {
     "name": "stderr",
     "output_type": "stream",
     "text": []
    },
    {
     "name": "stdout",
     "output_type": "stream",
     "text": [
      "{'epoch': 2, 'step': 1700, 'loss': 0.1470152735710144}\n"
     ]
    },
    {
     "name": "stderr",
     "output_type": "stream",
     "text": []
    },
    {
     "name": "stdout",
     "output_type": "stream",
     "text": [
      "{'epoch': 2, 'step': 1800, 'loss': 0.06603971123695374}\n"
     ]
    },
    {
     "name": "stderr",
     "output_type": "stream",
     "text": []
    },
    {
     "name": "stdout",
     "output_type": "stream",
     "text": [
      "{'epoch': 2, 'step': 1900, 'loss': 0.25703078508377075}\n"
     ]
    },
    {
     "name": "stderr",
     "output_type": "stream",
     "text": []
    },
    {
     "name": "stdout",
     "output_type": "stream",
     "text": [
      "{'epoch': 2, 'step': 2000, 'loss': 0.20344021916389465}\n"
     ]
    },
    {
     "name": "stderr",
     "output_type": "stream",
     "text": []
    },
    {
     "name": "stdout",
     "output_type": "stream",
     "text": [
      "{'epoch': 2, 'step': 2100, 'loss': 0.05327630043029785}\n"
     ]
    },
    {
     "name": "stderr",
     "output_type": "stream",
     "text": []
    },
    {
     "name": "stdout",
     "output_type": "stream",
     "text": [
      "{'epoch': 2, 'step': 2200, 'loss': 0.338457316160202}\n"
     ]
    },
    {
     "name": "stderr",
     "output_type": "stream",
     "text": []
    },
    {
     "name": "stdout",
     "output_type": "stream",
     "text": [
      "{'epoch': 2, 'step': 2300, 'loss': 0.08273160457611084}\n"
     ]
    },
    {
     "name": "stderr",
     "output_type": "stream",
     "text": []
    },
    {
     "name": "stdout",
     "output_type": "stream",
     "text": [
      "{'epoch': 2, 'step': 2400, 'loss': 0.08490206301212311}\n"
     ]
    },
    {
     "name": "stderr",
     "output_type": "stream",
     "text": []
    },
    {
     "name": "stdout",
     "output_type": "stream",
     "text": [
      "{'epoch': 2, 'step': 2500, 'loss': 0.41270849108695984}\n"
     ]
    },
    {
     "name": "stderr",
     "output_type": "stream",
     "text": []
    },
    {
     "name": "stdout",
     "output_type": "stream",
     "text": [
      "{'epoch': 2, 'step': 2600, 'loss': 0.07835432142019272}\n"
     ]
    },
    {
     "name": "stderr",
     "output_type": "stream",
     "text": []
    },
    {
     "name": "stdout",
     "output_type": "stream",
     "text": [
      "{'epoch': 2, 'step': 2700, 'loss': 0.021220659837126732}\n"
     ]
    },
    {
     "name": "stderr",
     "output_type": "stream",
     "text": []
    },
    {
     "name": "stdout",
     "output_type": "stream",
     "text": [
      "{'epoch': 2, 'step': 2800, 'loss': 0.17357461154460907}\n"
     ]
    },
    {
     "name": "stderr",
     "output_type": "stream",
     "text": []
    },
    {
     "name": "stdout",
     "output_type": "stream",
     "text": [
      "{'epoch': 2, 'step': 2900, 'loss': 0.12679043412208557}\n"
     ]
    },
    {
     "name": "stderr",
     "output_type": "stream",
     "text": []
    },
    {
     "name": "stdout",
     "output_type": "stream",
     "text": [
      "{'epoch': 2, 'step': 3000, 'loss': 0.42500177025794983}\n"
     ]
    },
    {
     "name": "stderr",
     "output_type": "stream",
     "text": []
    },
    {
     "name": "stdout",
     "output_type": "stream",
     "text": [
      "{'epoch': 2, 'step': 3100, 'loss': 0.05095455050468445}\n"
     ]
    },
    {
     "name": "stderr",
     "output_type": "stream",
     "text": [
      "Iteration: 100%|██████████| 3133/3133 [22:49<00:00,  2.29it/s]\n",
      "Eval Iteration: 100%|██████████| 784/784 [12:41<00:00,  1.03it/s]\n",
      "Epoch:  25%|██▌       | 3/12 [1:47:26<5:21:21, 2142.40s/it]"
     ]
    },
    {
     "name": "stdout",
     "output_type": "stream",
     "text": [
      "{'rouge1': 0.3376609059307577, 'rouge2': 0.17264651556669386, 'rougeL': 0.3308700669037271, 'rougeLsum': 0.33097121712587346}\n"
     ]
    },
    {
     "name": "stderr",
     "output_type": "stream",
     "text": []
    },
    {
     "name": "stdout",
     "output_type": "stream",
     "text": [
      "{'epoch': 3, 'step': 0, 'loss': 0.2272702306509018}\n"
     ]
    },
    {
     "name": "stderr",
     "output_type": "stream",
     "text": []
    },
    {
     "name": "stdout",
     "output_type": "stream",
     "text": [
      "{'epoch': 3, 'step': 100, 'loss': 0.32647451758384705}\n"
     ]
    },
    {
     "name": "stderr",
     "output_type": "stream",
     "text": []
    },
    {
     "name": "stdout",
     "output_type": "stream",
     "text": [
      "{'epoch': 3, 'step': 200, 'loss': 0.17710290849208832}\n"
     ]
    },
    {
     "name": "stderr",
     "output_type": "stream",
     "text": []
    },
    {
     "name": "stdout",
     "output_type": "stream",
     "text": [
      "{'epoch': 3, 'step': 300, 'loss': 0.20669859647750854}\n"
     ]
    },
    {
     "name": "stderr",
     "output_type": "stream",
     "text": []
    },
    {
     "name": "stdout",
     "output_type": "stream",
     "text": [
      "{'epoch': 3, 'step': 400, 'loss': 0.2304343432188034}\n"
     ]
    },
    {
     "name": "stderr",
     "output_type": "stream",
     "text": []
    },
    {
     "name": "stdout",
     "output_type": "stream",
     "text": [
      "{'epoch': 3, 'step': 500, 'loss': 0.11456966400146484}\n"
     ]
    },
    {
     "name": "stderr",
     "output_type": "stream",
     "text": []
    },
    {
     "name": "stdout",
     "output_type": "stream",
     "text": [
      "{'epoch': 3, 'step': 600, 'loss': 0.42438653111457825}\n"
     ]
    },
    {
     "name": "stderr",
     "output_type": "stream",
     "text": []
    },
    {
     "name": "stdout",
     "output_type": "stream",
     "text": [
      "{'epoch': 3, 'step': 700, 'loss': 0.07273518294095993}\n"
     ]
    },
    {
     "name": "stderr",
     "output_type": "stream",
     "text": []
    },
    {
     "name": "stdout",
     "output_type": "stream",
     "text": [
      "{'epoch': 3, 'step': 800, 'loss': 0.22723543643951416}\n"
     ]
    },
    {
     "name": "stderr",
     "output_type": "stream",
     "text": []
    },
    {
     "name": "stdout",
     "output_type": "stream",
     "text": [
      "{'epoch': 3, 'step': 900, 'loss': 0.0780196338891983}\n"
     ]
    },
    {
     "name": "stderr",
     "output_type": "stream",
     "text": []
    },
    {
     "name": "stdout",
     "output_type": "stream",
     "text": [
      "{'epoch': 3, 'step': 1000, 'loss': 0.06972237676382065}\n"
     ]
    },
    {
     "name": "stderr",
     "output_type": "stream",
     "text": []
    },
    {
     "name": "stdout",
     "output_type": "stream",
     "text": [
      "{'epoch': 3, 'step': 1100, 'loss': 0.01895528845489025}\n"
     ]
    },
    {
     "name": "stderr",
     "output_type": "stream",
     "text": []
    },
    {
     "name": "stdout",
     "output_type": "stream",
     "text": [
      "{'epoch': 3, 'step': 1200, 'loss': 0.29835838079452515}\n"
     ]
    },
    {
     "name": "stderr",
     "output_type": "stream",
     "text": []
    },
    {
     "name": "stdout",
     "output_type": "stream",
     "text": [
      "{'epoch': 3, 'step': 1300, 'loss': 0.13243526220321655}\n"
     ]
    },
    {
     "name": "stderr",
     "output_type": "stream",
     "text": []
    },
    {
     "name": "stdout",
     "output_type": "stream",
     "text": [
      "{'epoch': 3, 'step': 1400, 'loss': 0.20377250015735626}\n"
     ]
    },
    {
     "name": "stderr",
     "output_type": "stream",
     "text": []
    },
    {
     "name": "stdout",
     "output_type": "stream",
     "text": [
      "{'epoch': 3, 'step': 1500, 'loss': 0.12104156613349915}\n"
     ]
    },
    {
     "name": "stderr",
     "output_type": "stream",
     "text": []
    },
    {
     "name": "stdout",
     "output_type": "stream",
     "text": [
      "{'epoch': 3, 'step': 1600, 'loss': 0.14324980974197388}\n"
     ]
    },
    {
     "name": "stderr",
     "output_type": "stream",
     "text": []
    },
    {
     "name": "stdout",
     "output_type": "stream",
     "text": [
      "{'epoch': 3, 'step': 1700, 'loss': 0.1473003476858139}\n"
     ]
    },
    {
     "name": "stderr",
     "output_type": "stream",
     "text": []
    },
    {
     "name": "stdout",
     "output_type": "stream",
     "text": [
      "{'epoch': 3, 'step': 1800, 'loss': 0.10230182111263275}\n"
     ]
    },
    {
     "name": "stderr",
     "output_type": "stream",
     "text": []
    },
    {
     "name": "stdout",
     "output_type": "stream",
     "text": [
      "{'epoch': 3, 'step': 1900, 'loss': 0.07654877752065659}\n"
     ]
    },
    {
     "name": "stderr",
     "output_type": "stream",
     "text": []
    },
    {
     "name": "stdout",
     "output_type": "stream",
     "text": [
      "{'epoch': 3, 'step': 2000, 'loss': 0.1330135613679886}\n"
     ]
    },
    {
     "name": "stderr",
     "output_type": "stream",
     "text": []
    },
    {
     "name": "stdout",
     "output_type": "stream",
     "text": [
      "{'epoch': 3, 'step': 2100, 'loss': 0.058559514582157135}\n"
     ]
    },
    {
     "name": "stderr",
     "output_type": "stream",
     "text": []
    },
    {
     "name": "stdout",
     "output_type": "stream",
     "text": [
      "{'epoch': 3, 'step': 2200, 'loss': 0.22747811675071716}\n"
     ]
    },
    {
     "name": "stderr",
     "output_type": "stream",
     "text": []
    },
    {
     "name": "stdout",
     "output_type": "stream",
     "text": [
      "{'epoch': 3, 'step': 2300, 'loss': 0.415569931268692}\n"
     ]
    },
    {
     "name": "stderr",
     "output_type": "stream",
     "text": []
    },
    {
     "name": "stdout",
     "output_type": "stream",
     "text": [
      "{'epoch': 3, 'step': 2400, 'loss': 0.18141832947731018}\n"
     ]
    },
    {
     "name": "stderr",
     "output_type": "stream",
     "text": []
    },
    {
     "name": "stdout",
     "output_type": "stream",
     "text": [
      "{'epoch': 3, 'step': 2500, 'loss': 0.07220377027988434}\n"
     ]
    },
    {
     "name": "stderr",
     "output_type": "stream",
     "text": []
    },
    {
     "name": "stdout",
     "output_type": "stream",
     "text": [
      "{'epoch': 3, 'step': 2600, 'loss': 0.06304981559515}\n"
     ]
    },
    {
     "name": "stderr",
     "output_type": "stream",
     "text": []
    },
    {
     "name": "stdout",
     "output_type": "stream",
     "text": [
      "{'epoch': 3, 'step': 2700, 'loss': 0.4319990277290344}\n"
     ]
    },
    {
     "name": "stderr",
     "output_type": "stream",
     "text": []
    },
    {
     "name": "stdout",
     "output_type": "stream",
     "text": [
      "{'epoch': 3, 'step': 2800, 'loss': 0.36598941683769226}\n"
     ]
    },
    {
     "name": "stderr",
     "output_type": "stream",
     "text": []
    },
    {
     "name": "stdout",
     "output_type": "stream",
     "text": [
      "{'epoch': 3, 'step': 2900, 'loss': 0.37332770228385925}\n"
     ]
    },
    {
     "name": "stderr",
     "output_type": "stream",
     "text": []
    },
    {
     "name": "stdout",
     "output_type": "stream",
     "text": [
      "{'epoch': 3, 'step': 3000, 'loss': 0.21188116073608398}\n"
     ]
    },
    {
     "name": "stderr",
     "output_type": "stream",
     "text": []
    },
    {
     "name": "stdout",
     "output_type": "stream",
     "text": [
      "{'epoch': 3, 'step': 3100, 'loss': 0.3323938250541687}\n"
     ]
    },
    {
     "name": "stderr",
     "output_type": "stream",
     "text": [
      "Iteration: 100%|██████████| 3133/3133 [22:53<00:00,  2.28it/s]\n",
      "Eval Iteration: 100%|██████████| 784/784 [12:19<00:00,  1.06it/s]\n",
      "Epoch:  33%|███▎      | 4/12 [2:22:39<4:44:07, 2130.94s/it]"
     ]
    },
    {
     "name": "stdout",
     "output_type": "stream",
     "text": [
      "{'rouge1': 0.34977738960064864, 'rouge2': 0.18246614831842536, 'rougeL': 0.3444768363990038, 'rougeLsum': 0.3448032465638634}\n"
     ]
    },
    {
     "name": "stderr",
     "output_type": "stream",
     "text": []
    },
    {
     "name": "stdout",
     "output_type": "stream",
     "text": [
      "{'epoch': 4, 'step': 0, 'loss': 0.10007220506668091}\n"
     ]
    },
    {
     "name": "stderr",
     "output_type": "stream",
     "text": []
    },
    {
     "name": "stdout",
     "output_type": "stream",
     "text": [
      "{'epoch': 4, 'step': 100, 'loss': 0.09779183566570282}\n"
     ]
    },
    {
     "name": "stderr",
     "output_type": "stream",
     "text": []
    },
    {
     "name": "stdout",
     "output_type": "stream",
     "text": [
      "{'epoch': 4, 'step': 200, 'loss': 0.7881000638008118}\n"
     ]
    },
    {
     "name": "stderr",
     "output_type": "stream",
     "text": []
    },
    {
     "name": "stdout",
     "output_type": "stream",
     "text": [
      "{'epoch': 4, 'step': 300, 'loss': 0.12749014794826508}\n"
     ]
    },
    {
     "name": "stderr",
     "output_type": "stream",
     "text": []
    },
    {
     "name": "stdout",
     "output_type": "stream",
     "text": [
      "{'epoch': 4, 'step': 400, 'loss': 0.2343532145023346}\n"
     ]
    },
    {
     "name": "stderr",
     "output_type": "stream",
     "text": []
    },
    {
     "name": "stdout",
     "output_type": "stream",
     "text": [
      "{'epoch': 4, 'step': 500, 'loss': 0.2968503534793854}\n"
     ]
    },
    {
     "name": "stderr",
     "output_type": "stream",
     "text": []
    },
    {
     "name": "stdout",
     "output_type": "stream",
     "text": [
      "{'epoch': 4, 'step': 600, 'loss': 0.10090240836143494}\n"
     ]
    },
    {
     "name": "stderr",
     "output_type": "stream",
     "text": []
    },
    {
     "name": "stdout",
     "output_type": "stream",
     "text": [
      "{'epoch': 4, 'step': 700, 'loss': 0.3399016559123993}\n"
     ]
    },
    {
     "name": "stderr",
     "output_type": "stream",
     "text": []
    },
    {
     "name": "stdout",
     "output_type": "stream",
     "text": [
      "{'epoch': 4, 'step': 800, 'loss': 0.11228817701339722}\n"
     ]
    },
    {
     "name": "stderr",
     "output_type": "stream",
     "text": []
    },
    {
     "name": "stdout",
     "output_type": "stream",
     "text": [
      "{'epoch': 4, 'step': 900, 'loss': 0.2692009508609772}\n"
     ]
    },
    {
     "name": "stderr",
     "output_type": "stream",
     "text": []
    },
    {
     "name": "stdout",
     "output_type": "stream",
     "text": [
      "{'epoch': 4, 'step': 1000, 'loss': 0.1484474539756775}\n"
     ]
    },
    {
     "name": "stderr",
     "output_type": "stream",
     "text": []
    },
    {
     "name": "stdout",
     "output_type": "stream",
     "text": [
      "{'epoch': 4, 'step': 1100, 'loss': 0.6076272130012512}\n"
     ]
    },
    {
     "name": "stderr",
     "output_type": "stream",
     "text": []
    },
    {
     "name": "stdout",
     "output_type": "stream",
     "text": [
      "{'epoch': 4, 'step': 1200, 'loss': 0.09449080377817154}\n"
     ]
    },
    {
     "name": "stderr",
     "output_type": "stream",
     "text": []
    },
    {
     "name": "stdout",
     "output_type": "stream",
     "text": [
      "{'epoch': 4, 'step': 1300, 'loss': 0.29226192831993103}\n"
     ]
    },
    {
     "name": "stderr",
     "output_type": "stream",
     "text": []
    },
    {
     "name": "stdout",
     "output_type": "stream",
     "text": [
      "{'epoch': 4, 'step': 1400, 'loss': 0.0946866050362587}\n"
     ]
    },
    {
     "name": "stderr",
     "output_type": "stream",
     "text": []
    },
    {
     "name": "stdout",
     "output_type": "stream",
     "text": [
      "{'epoch': 4, 'step': 1500, 'loss': 0.3113085627555847}\n"
     ]
    },
    {
     "name": "stderr",
     "output_type": "stream",
     "text": []
    },
    {
     "name": "stdout",
     "output_type": "stream",
     "text": [
      "{'epoch': 4, 'step': 1600, 'loss': 0.16471029818058014}\n"
     ]
    },
    {
     "name": "stderr",
     "output_type": "stream",
     "text": []
    },
    {
     "name": "stdout",
     "output_type": "stream",
     "text": [
      "{'epoch': 4, 'step': 1700, 'loss': 0.13222424685955048}\n"
     ]
    },
    {
     "name": "stderr",
     "output_type": "stream",
     "text": []
    },
    {
     "name": "stdout",
     "output_type": "stream",
     "text": [
      "{'epoch': 4, 'step': 1800, 'loss': 0.1696138232946396}\n"
     ]
    },
    {
     "name": "stderr",
     "output_type": "stream",
     "text": []
    },
    {
     "name": "stdout",
     "output_type": "stream",
     "text": [
      "{'epoch': 4, 'step': 1900, 'loss': 0.1617196798324585}\n"
     ]
    },
    {
     "name": "stderr",
     "output_type": "stream",
     "text": []
    },
    {
     "name": "stdout",
     "output_type": "stream",
     "text": [
      "{'epoch': 4, 'step': 2000, 'loss': 0.11649040877819061}\n"
     ]
    },
    {
     "name": "stderr",
     "output_type": "stream",
     "text": []
    },
    {
     "name": "stdout",
     "output_type": "stream",
     "text": [
      "{'epoch': 4, 'step': 2100, 'loss': 0.15478861331939697}\n"
     ]
    },
    {
     "name": "stderr",
     "output_type": "stream",
     "text": []
    },
    {
     "name": "stdout",
     "output_type": "stream",
     "text": [
      "{'epoch': 4, 'step': 2200, 'loss': 0.1080678179860115}\n"
     ]
    },
    {
     "name": "stderr",
     "output_type": "stream",
     "text": []
    },
    {
     "name": "stdout",
     "output_type": "stream",
     "text": [
      "{'epoch': 4, 'step': 2300, 'loss': 0.1514541059732437}\n"
     ]
    },
    {
     "name": "stderr",
     "output_type": "stream",
     "text": []
    },
    {
     "name": "stdout",
     "output_type": "stream",
     "text": [
      "{'epoch': 4, 'step': 2400, 'loss': 0.3829285502433777}\n"
     ]
    },
    {
     "name": "stderr",
     "output_type": "stream",
     "text": []
    },
    {
     "name": "stdout",
     "output_type": "stream",
     "text": [
      "{'epoch': 4, 'step': 2500, 'loss': 0.21576108038425446}\n"
     ]
    },
    {
     "name": "stderr",
     "output_type": "stream",
     "text": []
    },
    {
     "name": "stdout",
     "output_type": "stream",
     "text": [
      "{'epoch': 4, 'step': 2600, 'loss': 0.24179181456565857}\n"
     ]
    },
    {
     "name": "stderr",
     "output_type": "stream",
     "text": []
    },
    {
     "name": "stdout",
     "output_type": "stream",
     "text": [
      "{'epoch': 4, 'step': 2700, 'loss': 0.017901044338941574}\n"
     ]
    },
    {
     "name": "stderr",
     "output_type": "stream",
     "text": []
    },
    {
     "name": "stdout",
     "output_type": "stream",
     "text": [
      "{'epoch': 4, 'step': 2800, 'loss': 0.024075962603092194}\n"
     ]
    },
    {
     "name": "stderr",
     "output_type": "stream",
     "text": []
    },
    {
     "name": "stdout",
     "output_type": "stream",
     "text": [
      "{'epoch': 4, 'step': 2900, 'loss': 0.08580358326435089}\n"
     ]
    },
    {
     "name": "stderr",
     "output_type": "stream",
     "text": []
    },
    {
     "name": "stdout",
     "output_type": "stream",
     "text": [
      "{'epoch': 4, 'step': 3000, 'loss': 0.05558772757649422}\n"
     ]
    },
    {
     "name": "stderr",
     "output_type": "stream",
     "text": []
    },
    {
     "name": "stdout",
     "output_type": "stream",
     "text": [
      "{'epoch': 4, 'step': 3100, 'loss': 0.04003819078207016}\n"
     ]
    },
    {
     "name": "stderr",
     "output_type": "stream",
     "text": [
      "Iteration: 100%|██████████| 3133/3133 [22:52<00:00,  2.28it/s]\n",
      "Eval Iteration: 100%|██████████| 784/784 [13:02<00:00,  1.00it/s]\n",
      "Epoch:  42%|████▏     | 5/12 [2:58:34<4:09:38, 2139.76s/it]"
     ]
    },
    {
     "name": "stdout",
     "output_type": "stream",
     "text": [
      "{'rouge1': 0.37273158568614845, 'rouge2': 0.20115341823120608, 'rougeL': 0.36801143476842113, 'rougeLsum': 0.36828329987042563}\n"
     ]
    },
    {
     "name": "stderr",
     "output_type": "stream",
     "text": []
    },
    {
     "name": "stdout",
     "output_type": "stream",
     "text": [
      "{'epoch': 5, 'step': 0, 'loss': 0.11311618238687515}\n"
     ]
    },
    {
     "name": "stderr",
     "output_type": "stream",
     "text": []
    },
    {
     "name": "stdout",
     "output_type": "stream",
     "text": [
      "{'epoch': 5, 'step': 100, 'loss': 0.06562480330467224}\n"
     ]
    },
    {
     "name": "stderr",
     "output_type": "stream",
     "text": []
    },
    {
     "name": "stdout",
     "output_type": "stream",
     "text": [
      "{'epoch': 5, 'step': 200, 'loss': 0.04704089090228081}\n"
     ]
    },
    {
     "name": "stderr",
     "output_type": "stream",
     "text": []
    },
    {
     "name": "stdout",
     "output_type": "stream",
     "text": [
      "{'epoch': 5, 'step': 300, 'loss': 0.034588828682899475}\n"
     ]
    },
    {
     "name": "stderr",
     "output_type": "stream",
     "text": []
    },
    {
     "name": "stdout",
     "output_type": "stream",
     "text": [
      "{'epoch': 5, 'step': 400, 'loss': 0.03715861216187477}\n"
     ]
    },
    {
     "name": "stderr",
     "output_type": "stream",
     "text": []
    },
    {
     "name": "stdout",
     "output_type": "stream",
     "text": [
      "{'epoch': 5, 'step': 500, 'loss': 0.545900821685791}\n"
     ]
    },
    {
     "name": "stderr",
     "output_type": "stream",
     "text": []
    },
    {
     "name": "stdout",
     "output_type": "stream",
     "text": [
      "{'epoch': 5, 'step': 600, 'loss': 0.0071481321938335896}\n"
     ]
    },
    {
     "name": "stderr",
     "output_type": "stream",
     "text": []
    },
    {
     "name": "stdout",
     "output_type": "stream",
     "text": [
      "{'epoch': 5, 'step': 700, 'loss': 0.09671279788017273}\n"
     ]
    },
    {
     "name": "stderr",
     "output_type": "stream",
     "text": []
    },
    {
     "name": "stdout",
     "output_type": "stream",
     "text": [
      "{'epoch': 5, 'step': 800, 'loss': 0.04199286550283432}\n"
     ]
    },
    {
     "name": "stderr",
     "output_type": "stream",
     "text": []
    },
    {
     "name": "stdout",
     "output_type": "stream",
     "text": [
      "{'epoch': 5, 'step': 900, 'loss': 0.04029034078121185}\n"
     ]
    },
    {
     "name": "stderr",
     "output_type": "stream",
     "text": []
    },
    {
     "name": "stdout",
     "output_type": "stream",
     "text": [
      "{'epoch': 5, 'step': 1000, 'loss': 0.3535187244415283}\n"
     ]
    },
    {
     "name": "stderr",
     "output_type": "stream",
     "text": []
    },
    {
     "name": "stdout",
     "output_type": "stream",
     "text": [
      "{'epoch': 5, 'step': 1100, 'loss': 0.48773565888404846}\n"
     ]
    },
    {
     "name": "stderr",
     "output_type": "stream",
     "text": []
    },
    {
     "name": "stdout",
     "output_type": "stream",
     "text": [
      "{'epoch': 5, 'step': 1200, 'loss': 0.15447388589382172}\n"
     ]
    },
    {
     "name": "stderr",
     "output_type": "stream",
     "text": []
    },
    {
     "name": "stdout",
     "output_type": "stream",
     "text": [
      "{'epoch': 5, 'step': 1300, 'loss': 0.05225436016917229}\n"
     ]
    },
    {
     "name": "stderr",
     "output_type": "stream",
     "text": []
    },
    {
     "name": "stdout",
     "output_type": "stream",
     "text": [
      "{'epoch': 5, 'step': 1400, 'loss': 0.17134901881217957}\n"
     ]
    },
    {
     "name": "stderr",
     "output_type": "stream",
     "text": []
    },
    {
     "name": "stdout",
     "output_type": "stream",
     "text": [
      "{'epoch': 5, 'step': 1500, 'loss': 0.07126539945602417}\n"
     ]
    },
    {
     "name": "stderr",
     "output_type": "stream",
     "text": []
    },
    {
     "name": "stdout",
     "output_type": "stream",
     "text": [
      "{'epoch': 5, 'step': 1600, 'loss': 0.27760955691337585}\n"
     ]
    },
    {
     "name": "stderr",
     "output_type": "stream",
     "text": []
    },
    {
     "name": "stdout",
     "output_type": "stream",
     "text": [
      "{'epoch': 5, 'step': 1700, 'loss': 0.09076511859893799}\n"
     ]
    },
    {
     "name": "stderr",
     "output_type": "stream",
     "text": []
    },
    {
     "name": "stdout",
     "output_type": "stream",
     "text": [
      "{'epoch': 5, 'step': 1800, 'loss': 0.021447692066431046}\n"
     ]
    },
    {
     "name": "stderr",
     "output_type": "stream",
     "text": []
    },
    {
     "name": "stdout",
     "output_type": "stream",
     "text": [
      "{'epoch': 5, 'step': 1900, 'loss': 0.12552079558372498}\n"
     ]
    },
    {
     "name": "stderr",
     "output_type": "stream",
     "text": []
    },
    {
     "name": "stdout",
     "output_type": "stream",
     "text": [
      "{'epoch': 5, 'step': 2000, 'loss': 0.0941518023610115}\n"
     ]
    },
    {
     "name": "stderr",
     "output_type": "stream",
     "text": []
    },
    {
     "name": "stdout",
     "output_type": "stream",
     "text": [
      "{'epoch': 5, 'step': 2100, 'loss': 0.23126542568206787}\n"
     ]
    },
    {
     "name": "stderr",
     "output_type": "stream",
     "text": []
    },
    {
     "name": "stdout",
     "output_type": "stream",
     "text": [
      "{'epoch': 5, 'step': 2200, 'loss': 0.18778786063194275}\n"
     ]
    },
    {
     "name": "stderr",
     "output_type": "stream",
     "text": []
    },
    {
     "name": "stdout",
     "output_type": "stream",
     "text": [
      "{'epoch': 5, 'step': 2300, 'loss': 0.12806788086891174}\n"
     ]
    },
    {
     "name": "stderr",
     "output_type": "stream",
     "text": []
    },
    {
     "name": "stdout",
     "output_type": "stream",
     "text": [
      "{'epoch': 5, 'step': 2400, 'loss': 0.08227572590112686}\n"
     ]
    },
    {
     "name": "stderr",
     "output_type": "stream",
     "text": []
    },
    {
     "name": "stdout",
     "output_type": "stream",
     "text": [
      "{'epoch': 5, 'step': 2500, 'loss': 0.28860989212989807}\n"
     ]
    },
    {
     "name": "stderr",
     "output_type": "stream",
     "text": []
    },
    {
     "name": "stdout",
     "output_type": "stream",
     "text": [
      "{'epoch': 5, 'step': 2600, 'loss': 0.3261863589286804}\n"
     ]
    },
    {
     "name": "stderr",
     "output_type": "stream",
     "text": []
    },
    {
     "name": "stdout",
     "output_type": "stream",
     "text": [
      "{'epoch': 5, 'step': 2700, 'loss': 0.14407669007778168}\n"
     ]
    },
    {
     "name": "stderr",
     "output_type": "stream",
     "text": []
    },
    {
     "name": "stdout",
     "output_type": "stream",
     "text": [
      "{'epoch': 5, 'step': 2800, 'loss': 0.7586187124252319}\n"
     ]
    },
    {
     "name": "stderr",
     "output_type": "stream",
     "text": []
    },
    {
     "name": "stdout",
     "output_type": "stream",
     "text": [
      "{'epoch': 5, 'step': 2900, 'loss': 0.30822381377220154}\n"
     ]
    },
    {
     "name": "stderr",
     "output_type": "stream",
     "text": []
    },
    {
     "name": "stdout",
     "output_type": "stream",
     "text": [
      "{'epoch': 5, 'step': 3000, 'loss': 0.05927598476409912}\n"
     ]
    },
    {
     "name": "stderr",
     "output_type": "stream",
     "text": []
    },
    {
     "name": "stdout",
     "output_type": "stream",
     "text": [
      "{'epoch': 5, 'step': 3100, 'loss': 0.07916800677776337}\n"
     ]
    },
    {
     "name": "stderr",
     "output_type": "stream",
     "text": [
      "Iteration: 100%|██████████| 3133/3133 [22:51<00:00,  2.28it/s]\n",
      "Eval Iteration: 100%|██████████| 784/784 [12:57<00:00,  1.01it/s]\n",
      "Epoch:  50%|█████     | 6/12 [3:34:23<3:34:17, 2142.92s/it]"
     ]
    },
    {
     "name": "stdout",
     "output_type": "stream",
     "text": [
      "{'rouge1': 0.37864351505747285, 'rouge2': 0.2103563331041365, 'rougeL': 0.3730174215363994, 'rougeLsum': 0.37308553319130766}\n"
     ]
    },
    {
     "name": "stderr",
     "output_type": "stream",
     "text": []
    },
    {
     "name": "stdout",
     "output_type": "stream",
     "text": [
      "{'epoch': 6, 'step': 0, 'loss': 0.13046637177467346}\n"
     ]
    },
    {
     "name": "stderr",
     "output_type": "stream",
     "text": []
    },
    {
     "name": "stdout",
     "output_type": "stream",
     "text": [
      "{'epoch': 6, 'step': 100, 'loss': 0.1458544284105301}\n"
     ]
    },
    {
     "name": "stderr",
     "output_type": "stream",
     "text": []
    },
    {
     "name": "stdout",
     "output_type": "stream",
     "text": [
      "{'epoch': 6, 'step': 200, 'loss': 0.027803804725408554}\n"
     ]
    },
    {
     "name": "stderr",
     "output_type": "stream",
     "text": []
    },
    {
     "name": "stdout",
     "output_type": "stream",
     "text": [
      "{'epoch': 6, 'step': 300, 'loss': 0.05549287796020508}\n"
     ]
    },
    {
     "name": "stderr",
     "output_type": "stream",
     "text": []
    },
    {
     "name": "stdout",
     "output_type": "stream",
     "text": [
      "{'epoch': 6, 'step': 400, 'loss': 0.22771483659744263}\n"
     ]
    },
    {
     "name": "stderr",
     "output_type": "stream",
     "text": []
    },
    {
     "name": "stdout",
     "output_type": "stream",
     "text": [
      "{'epoch': 6, 'step': 500, 'loss': 0.07787086069583893}\n"
     ]
    },
    {
     "name": "stderr",
     "output_type": "stream",
     "text": []
    },
    {
     "name": "stdout",
     "output_type": "stream",
     "text": [
      "{'epoch': 6, 'step': 600, 'loss': 0.09776908159255981}\n"
     ]
    },
    {
     "name": "stderr",
     "output_type": "stream",
     "text": []
    },
    {
     "name": "stdout",
     "output_type": "stream",
     "text": [
      "{'epoch': 6, 'step': 700, 'loss': 0.1110314279794693}\n"
     ]
    },
    {
     "name": "stderr",
     "output_type": "stream",
     "text": []
    },
    {
     "name": "stdout",
     "output_type": "stream",
     "text": [
      "{'epoch': 6, 'step': 800, 'loss': 0.2570797801017761}\n"
     ]
    },
    {
     "name": "stderr",
     "output_type": "stream",
     "text": []
    },
    {
     "name": "stdout",
     "output_type": "stream",
     "text": [
      "{'epoch': 6, 'step': 900, 'loss': 0.14705049991607666}\n"
     ]
    },
    {
     "name": "stderr",
     "output_type": "stream",
     "text": []
    },
    {
     "name": "stdout",
     "output_type": "stream",
     "text": [
      "{'epoch': 6, 'step': 1000, 'loss': 0.32149967551231384}\n"
     ]
    },
    {
     "name": "stderr",
     "output_type": "stream",
     "text": []
    },
    {
     "name": "stdout",
     "output_type": "stream",
     "text": [
      "{'epoch': 6, 'step': 1100, 'loss': 0.3119416832923889}\n"
     ]
    },
    {
     "name": "stderr",
     "output_type": "stream",
     "text": []
    },
    {
     "name": "stdout",
     "output_type": "stream",
     "text": [
      "{'epoch': 6, 'step': 1200, 'loss': 0.15134170651435852}\n"
     ]
    },
    {
     "name": "stderr",
     "output_type": "stream",
     "text": []
    },
    {
     "name": "stdout",
     "output_type": "stream",
     "text": [
      "{'epoch': 6, 'step': 1300, 'loss': 0.02920793555676937}\n"
     ]
    },
    {
     "name": "stderr",
     "output_type": "stream",
     "text": []
    },
    {
     "name": "stdout",
     "output_type": "stream",
     "text": [
      "{'epoch': 6, 'step': 1400, 'loss': 0.08037473261356354}\n"
     ]
    },
    {
     "name": "stderr",
     "output_type": "stream",
     "text": []
    },
    {
     "name": "stdout",
     "output_type": "stream",
     "text": [
      "{'epoch': 6, 'step': 1500, 'loss': 0.07737533748149872}\n"
     ]
    },
    {
     "name": "stderr",
     "output_type": "stream",
     "text": []
    },
    {
     "name": "stdout",
     "output_type": "stream",
     "text": [
      "{'epoch': 6, 'step': 1600, 'loss': 0.1455351859331131}\n"
     ]
    },
    {
     "name": "stderr",
     "output_type": "stream",
     "text": []
    },
    {
     "name": "stdout",
     "output_type": "stream",
     "text": [
      "{'epoch': 6, 'step': 1700, 'loss': 0.3174206018447876}\n"
     ]
    },
    {
     "name": "stderr",
     "output_type": "stream",
     "text": []
    },
    {
     "name": "stdout",
     "output_type": "stream",
     "text": [
      "{'epoch': 6, 'step': 1800, 'loss': 0.13904038071632385}\n"
     ]
    },
    {
     "name": "stderr",
     "output_type": "stream",
     "text": []
    },
    {
     "name": "stdout",
     "output_type": "stream",
     "text": [
      "{'epoch': 6, 'step': 1900, 'loss': 0.14677686989307404}\n"
     ]
    },
    {
     "name": "stderr",
     "output_type": "stream",
     "text": []
    },
    {
     "name": "stdout",
     "output_type": "stream",
     "text": [
      "{'epoch': 6, 'step': 2000, 'loss': 0.1099444180727005}\n"
     ]
    },
    {
     "name": "stderr",
     "output_type": "stream",
     "text": []
    },
    {
     "name": "stdout",
     "output_type": "stream",
     "text": [
      "{'epoch': 6, 'step': 2100, 'loss': 0.08184224367141724}\n"
     ]
    },
    {
     "name": "stderr",
     "output_type": "stream",
     "text": []
    },
    {
     "name": "stdout",
     "output_type": "stream",
     "text": [
      "{'epoch': 6, 'step': 2200, 'loss': 0.28059834241867065}\n"
     ]
    },
    {
     "name": "stderr",
     "output_type": "stream",
     "text": []
    },
    {
     "name": "stdout",
     "output_type": "stream",
     "text": [
      "{'epoch': 6, 'step': 2300, 'loss': 0.12967969477176666}\n"
     ]
    },
    {
     "name": "stderr",
     "output_type": "stream",
     "text": []
    },
    {
     "name": "stdout",
     "output_type": "stream",
     "text": [
      "{'epoch': 6, 'step': 2400, 'loss': 0.5232438445091248}\n"
     ]
    },
    {
     "name": "stderr",
     "output_type": "stream",
     "text": []
    },
    {
     "name": "stdout",
     "output_type": "stream",
     "text": [
      "{'epoch': 6, 'step': 2500, 'loss': 0.01894252933561802}\n"
     ]
    },
    {
     "name": "stderr",
     "output_type": "stream",
     "text": []
    },
    {
     "name": "stdout",
     "output_type": "stream",
     "text": [
      "{'epoch': 6, 'step': 2600, 'loss': 0.16345682740211487}\n"
     ]
    },
    {
     "name": "stderr",
     "output_type": "stream",
     "text": []
    },
    {
     "name": "stdout",
     "output_type": "stream",
     "text": [
      "{'epoch': 6, 'step': 2700, 'loss': 0.1960647702217102}\n"
     ]
    },
    {
     "name": "stderr",
     "output_type": "stream",
     "text": []
    },
    {
     "name": "stdout",
     "output_type": "stream",
     "text": [
      "{'epoch': 6, 'step': 2800, 'loss': 0.15069624781608582}\n"
     ]
    },
    {
     "name": "stderr",
     "output_type": "stream",
     "text": []
    },
    {
     "name": "stdout",
     "output_type": "stream",
     "text": [
      "{'epoch': 6, 'step': 2900, 'loss': 0.22282221913337708}\n"
     ]
    },
    {
     "name": "stderr",
     "output_type": "stream",
     "text": []
    },
    {
     "name": "stdout",
     "output_type": "stream",
     "text": [
      "{'epoch': 6, 'step': 3000, 'loss': 0.24546101689338684}\n"
     ]
    },
    {
     "name": "stderr",
     "output_type": "stream",
     "text": []
    },
    {
     "name": "stdout",
     "output_type": "stream",
     "text": [
      "{'epoch': 6, 'step': 3100, 'loss': 0.19134339690208435}\n"
     ]
    },
    {
     "name": "stderr",
     "output_type": "stream",
     "text": [
      "Iteration: 100%|██████████| 3133/3133 [22:49<00:00,  2.29it/s]\n",
      "Eval Iteration: 100%|██████████| 784/784 [12:51<00:00,  1.02it/s]\n"
     ]
    },
    {
     "name": "stdout",
     "output_type": "stream",
     "text": [
      "{'rouge1': 0.37864351505747285, 'rouge2': 0.2103563331041365, 'rougeL': 0.3730174215363994, 'rougeLsum': 0.37308553319130766}\n"
     ]
    },
    {
     "name": "stderr",
     "output_type": "stream",
     "text": [
      "Epoch:  58%|█████▊    | 7/12 [4:10:12<2:58:43, 2144.73s/it]"
     ]
    },
    {
     "name": "stdout",
     "output_type": "stream",
     "text": [
      "{'epoch': 7, 'step': 0, 'loss': 0.07034608721733093}\n"
     ]
    },
    {
     "name": "stderr",
     "output_type": "stream",
     "text": []
    },
    {
     "name": "stdout",
     "output_type": "stream",
     "text": [
      "{'epoch': 7, 'step': 100, 'loss': 0.06936048716306686}\n"
     ]
    },
    {
     "name": "stderr",
     "output_type": "stream",
     "text": []
    },
    {
     "name": "stdout",
     "output_type": "stream",
     "text": [
      "{'epoch': 7, 'step': 200, 'loss': 0.3558166027069092}\n"
     ]
    },
    {
     "name": "stderr",
     "output_type": "stream",
     "text": []
    },
    {
     "name": "stdout",
     "output_type": "stream",
     "text": [
      "{'epoch': 7, 'step': 300, 'loss': 0.205229714512825}\n"
     ]
    },
    {
     "name": "stderr",
     "output_type": "stream",
     "text": []
    },
    {
     "name": "stdout",
     "output_type": "stream",
     "text": [
      "{'epoch': 7, 'step': 400, 'loss': 0.16962802410125732}\n"
     ]
    },
    {
     "name": "stderr",
     "output_type": "stream",
     "text": []
    },
    {
     "name": "stdout",
     "output_type": "stream",
     "text": [
      "{'epoch': 7, 'step': 500, 'loss': 0.19602124392986298}\n"
     ]
    },
    {
     "name": "stderr",
     "output_type": "stream",
     "text": []
    },
    {
     "name": "stdout",
     "output_type": "stream",
     "text": [
      "{'epoch': 7, 'step': 600, 'loss': 0.3901159167289734}\n"
     ]
    },
    {
     "name": "stderr",
     "output_type": "stream",
     "text": []
    },
    {
     "name": "stdout",
     "output_type": "stream",
     "text": [
      "{'epoch': 7, 'step': 700, 'loss': 0.21695683896541595}\n"
     ]
    },
    {
     "name": "stderr",
     "output_type": "stream",
     "text": []
    },
    {
     "name": "stdout",
     "output_type": "stream",
     "text": [
      "{'epoch': 7, 'step': 800, 'loss': 0.2397952824831009}\n"
     ]
    },
    {
     "name": "stderr",
     "output_type": "stream",
     "text": []
    },
    {
     "name": "stdout",
     "output_type": "stream",
     "text": [
      "{'epoch': 7, 'step': 900, 'loss': 0.10553165525197983}\n"
     ]
    },
    {
     "name": "stderr",
     "output_type": "stream",
     "text": []
    },
    {
     "name": "stdout",
     "output_type": "stream",
     "text": [
      "{'epoch': 7, 'step': 1000, 'loss': 0.1046813502907753}\n"
     ]
    },
    {
     "name": "stderr",
     "output_type": "stream",
     "text": []
    },
    {
     "name": "stdout",
     "output_type": "stream",
     "text": [
      "{'epoch': 7, 'step': 1100, 'loss': 0.08302082121372223}\n"
     ]
    },
    {
     "name": "stderr",
     "output_type": "stream",
     "text": []
    },
    {
     "name": "stdout",
     "output_type": "stream",
     "text": [
      "{'epoch': 7, 'step': 1200, 'loss': 0.059668418020009995}\n"
     ]
    },
    {
     "name": "stderr",
     "output_type": "stream",
     "text": []
    },
    {
     "name": "stdout",
     "output_type": "stream",
     "text": [
      "{'epoch': 7, 'step': 1300, 'loss': 0.14146234095096588}\n"
     ]
    },
    {
     "name": "stderr",
     "output_type": "stream",
     "text": []
    },
    {
     "name": "stdout",
     "output_type": "stream",
     "text": [
      "{'epoch': 7, 'step': 1400, 'loss': 0.1576349288225174}\n"
     ]
    },
    {
     "name": "stderr",
     "output_type": "stream",
     "text": []
    },
    {
     "name": "stdout",
     "output_type": "stream",
     "text": [
      "{'epoch': 7, 'step': 1500, 'loss': 0.3132774829864502}\n"
     ]
    },
    {
     "name": "stderr",
     "output_type": "stream",
     "text": []
    },
    {
     "name": "stdout",
     "output_type": "stream",
     "text": [
      "{'epoch': 7, 'step': 1600, 'loss': 0.129167839884758}\n"
     ]
    },
    {
     "name": "stderr",
     "output_type": "stream",
     "text": []
    },
    {
     "name": "stdout",
     "output_type": "stream",
     "text": [
      "{'epoch': 7, 'step': 1700, 'loss': 0.27413052320480347}\n"
     ]
    },
    {
     "name": "stderr",
     "output_type": "stream",
     "text": []
    },
    {
     "name": "stdout",
     "output_type": "stream",
     "text": [
      "{'epoch': 7, 'step': 1800, 'loss': 0.16408702731132507}\n"
     ]
    },
    {
     "name": "stderr",
     "output_type": "stream",
     "text": []
    },
    {
     "name": "stdout",
     "output_type": "stream",
     "text": [
      "{'epoch': 7, 'step': 1900, 'loss': 0.17399056255817413}\n"
     ]
    },
    {
     "name": "stderr",
     "output_type": "stream",
     "text": []
    },
    {
     "name": "stdout",
     "output_type": "stream",
     "text": [
      "{'epoch': 7, 'step': 2000, 'loss': 0.05288201570510864}\n"
     ]
    },
    {
     "name": "stderr",
     "output_type": "stream",
     "text": []
    },
    {
     "name": "stdout",
     "output_type": "stream",
     "text": [
      "{'epoch': 7, 'step': 2100, 'loss': 0.10895847529172897}\n"
     ]
    },
    {
     "name": "stderr",
     "output_type": "stream",
     "text": []
    },
    {
     "name": "stdout",
     "output_type": "stream",
     "text": [
      "{'epoch': 7, 'step': 2200, 'loss': 0.09831514209508896}\n"
     ]
    },
    {
     "name": "stderr",
     "output_type": "stream",
     "text": []
    },
    {
     "name": "stdout",
     "output_type": "stream",
     "text": [
      "{'epoch': 7, 'step': 2300, 'loss': 0.01664067432284355}\n"
     ]
    },
    {
     "name": "stderr",
     "output_type": "stream",
     "text": []
    },
    {
     "name": "stdout",
     "output_type": "stream",
     "text": [
      "{'epoch': 7, 'step': 2400, 'loss': 0.31888216733932495}\n"
     ]
    },
    {
     "name": "stderr",
     "output_type": "stream",
     "text": []
    },
    {
     "name": "stdout",
     "output_type": "stream",
     "text": [
      "{'epoch': 7, 'step': 2500, 'loss': 0.07260478287935257}\n"
     ]
    },
    {
     "name": "stderr",
     "output_type": "stream",
     "text": []
    },
    {
     "name": "stdout",
     "output_type": "stream",
     "text": [
      "{'epoch': 7, 'step': 2600, 'loss': 0.09539788961410522}\n"
     ]
    },
    {
     "name": "stderr",
     "output_type": "stream",
     "text": []
    },
    {
     "name": "stdout",
     "output_type": "stream",
     "text": [
      "{'epoch': 7, 'step': 2700, 'loss': 0.06405709683895111}\n"
     ]
    },
    {
     "name": "stderr",
     "output_type": "stream",
     "text": []
    },
    {
     "name": "stdout",
     "output_type": "stream",
     "text": [
      "{'epoch': 7, 'step': 2800, 'loss': 0.14988528192043304}\n"
     ]
    },
    {
     "name": "stderr",
     "output_type": "stream",
     "text": []
    },
    {
     "name": "stdout",
     "output_type": "stream",
     "text": [
      "{'epoch': 7, 'step': 2900, 'loss': 0.2871689200401306}\n"
     ]
    },
    {
     "name": "stderr",
     "output_type": "stream",
     "text": []
    },
    {
     "name": "stdout",
     "output_type": "stream",
     "text": [
      "{'epoch': 7, 'step': 3000, 'loss': 0.14934749901294708}\n"
     ]
    },
    {
     "name": "stderr",
     "output_type": "stream",
     "text": []
    },
    {
     "name": "stdout",
     "output_type": "stream",
     "text": [
      "{'epoch': 7, 'step': 3100, 'loss': 0.09113061428070068}\n"
     ]
    },
    {
     "name": "stderr",
     "output_type": "stream",
     "text": [
      "Iteration: 100%|██████████| 3133/3133 [22:40<00:00,  2.30it/s]\n",
      "Eval Iteration: 100%|██████████| 784/784 [12:54<00:00,  1.01it/s]\n"
     ]
    },
    {
     "name": "stdout",
     "output_type": "stream",
     "text": [
      "{'rouge1': 0.37864351505747285, 'rouge2': 0.2103563331041365, 'rougeL': 0.3730174215363994, 'rougeLsum': 0.37308553319130766}\n"
     ]
    },
    {
     "name": "stderr",
     "output_type": "stream",
     "text": [
      "Epoch:  67%|██████▋   | 8/12 [4:45:53<2:22:54, 2143.66s/it]"
     ]
    },
    {
     "name": "stdout",
     "output_type": "stream",
     "text": [
      "{'epoch': 8, 'step': 0, 'loss': 0.09128756821155548}\n"
     ]
    },
    {
     "name": "stderr",
     "output_type": "stream",
     "text": []
    },
    {
     "name": "stdout",
     "output_type": "stream",
     "text": [
      "{'epoch': 8, 'step': 100, 'loss': 0.1092446818947792}\n"
     ]
    },
    {
     "name": "stderr",
     "output_type": "stream",
     "text": []
    },
    {
     "name": "stdout",
     "output_type": "stream",
     "text": [
      "{'epoch': 8, 'step': 200, 'loss': 0.04242466762661934}\n"
     ]
    },
    {
     "name": "stderr",
     "output_type": "stream",
     "text": []
    },
    {
     "name": "stdout",
     "output_type": "stream",
     "text": [
      "{'epoch': 8, 'step': 300, 'loss': 0.1266295313835144}\n"
     ]
    },
    {
     "name": "stderr",
     "output_type": "stream",
     "text": []
    },
    {
     "name": "stdout",
     "output_type": "stream",
     "text": [
      "{'epoch': 8, 'step': 400, 'loss': 0.12225741147994995}\n"
     ]
    },
    {
     "name": "stderr",
     "output_type": "stream",
     "text": []
    },
    {
     "name": "stdout",
     "output_type": "stream",
     "text": [
      "{'epoch': 8, 'step': 500, 'loss': 0.20009391009807587}\n"
     ]
    },
    {
     "name": "stderr",
     "output_type": "stream",
     "text": []
    },
    {
     "name": "stdout",
     "output_type": "stream",
     "text": [
      "{'epoch': 8, 'step': 600, 'loss': 0.051290515810251236}\n"
     ]
    },
    {
     "name": "stderr",
     "output_type": "stream",
     "text": []
    },
    {
     "name": "stdout",
     "output_type": "stream",
     "text": [
      "{'epoch': 8, 'step': 700, 'loss': 0.39788582921028137}\n"
     ]
    },
    {
     "name": "stderr",
     "output_type": "stream",
     "text": []
    },
    {
     "name": "stdout",
     "output_type": "stream",
     "text": [
      "{'epoch': 8, 'step': 800, 'loss': 0.1483735293149948}\n"
     ]
    },
    {
     "name": "stderr",
     "output_type": "stream",
     "text": []
    },
    {
     "name": "stdout",
     "output_type": "stream",
     "text": [
      "{'epoch': 8, 'step': 900, 'loss': 0.29253941774368286}\n"
     ]
    },
    {
     "name": "stderr",
     "output_type": "stream",
     "text": []
    },
    {
     "name": "stdout",
     "output_type": "stream",
     "text": [
      "{'epoch': 8, 'step': 1000, 'loss': 0.5014610290527344}\n"
     ]
    },
    {
     "name": "stderr",
     "output_type": "stream",
     "text": []
    },
    {
     "name": "stdout",
     "output_type": "stream",
     "text": [
      "{'epoch': 8, 'step': 1100, 'loss': 0.016470571979880333}\n"
     ]
    },
    {
     "name": "stderr",
     "output_type": "stream",
     "text": []
    },
    {
     "name": "stdout",
     "output_type": "stream",
     "text": [
      "{'epoch': 8, 'step': 1200, 'loss': 0.04947686195373535}\n"
     ]
    },
    {
     "name": "stderr",
     "output_type": "stream",
     "text": []
    },
    {
     "name": "stdout",
     "output_type": "stream",
     "text": [
      "{'epoch': 8, 'step': 1300, 'loss': 0.13360914587974548}\n"
     ]
    },
    {
     "name": "stderr",
     "output_type": "stream",
     "text": []
    },
    {
     "name": "stdout",
     "output_type": "stream",
     "text": [
      "{'epoch': 8, 'step': 1400, 'loss': 0.0951535627245903}\n"
     ]
    },
    {
     "name": "stderr",
     "output_type": "stream",
     "text": []
    },
    {
     "name": "stdout",
     "output_type": "stream",
     "text": [
      "{'epoch': 8, 'step': 1500, 'loss': 0.13516369462013245}\n"
     ]
    },
    {
     "name": "stderr",
     "output_type": "stream",
     "text": []
    },
    {
     "name": "stdout",
     "output_type": "stream",
     "text": [
      "{'epoch': 8, 'step': 1600, 'loss': 0.21236975491046906}\n"
     ]
    },
    {
     "name": "stderr",
     "output_type": "stream",
     "text": []
    },
    {
     "name": "stdout",
     "output_type": "stream",
     "text": [
      "{'epoch': 8, 'step': 1700, 'loss': 0.3434731662273407}\n"
     ]
    },
    {
     "name": "stderr",
     "output_type": "stream",
     "text": []
    },
    {
     "name": "stdout",
     "output_type": "stream",
     "text": [
      "{'epoch': 8, 'step': 1800, 'loss': 0.08816797286272049}\n"
     ]
    },
    {
     "name": "stderr",
     "output_type": "stream",
     "text": []
    },
    {
     "name": "stdout",
     "output_type": "stream",
     "text": [
      "{'epoch': 8, 'step': 1900, 'loss': 0.171311154961586}\n"
     ]
    },
    {
     "name": "stderr",
     "output_type": "stream",
     "text": []
    },
    {
     "name": "stdout",
     "output_type": "stream",
     "text": [
      "{'epoch': 8, 'step': 2000, 'loss': 0.2316046953201294}\n"
     ]
    },
    {
     "name": "stderr",
     "output_type": "stream",
     "text": []
    },
    {
     "name": "stdout",
     "output_type": "stream",
     "text": [
      "{'epoch': 8, 'step': 2100, 'loss': 0.2805195748806}\n"
     ]
    },
    {
     "name": "stderr",
     "output_type": "stream",
     "text": []
    },
    {
     "name": "stdout",
     "output_type": "stream",
     "text": [
      "{'epoch': 8, 'step': 2200, 'loss': 0.38593411445617676}\n"
     ]
    },
    {
     "name": "stderr",
     "output_type": "stream",
     "text": []
    },
    {
     "name": "stdout",
     "output_type": "stream",
     "text": [
      "{'epoch': 8, 'step': 2300, 'loss': 0.534032940864563}\n"
     ]
    },
    {
     "name": "stderr",
     "output_type": "stream",
     "text": []
    },
    {
     "name": "stdout",
     "output_type": "stream",
     "text": [
      "{'epoch': 8, 'step': 2400, 'loss': 0.026824580505490303}\n"
     ]
    },
    {
     "name": "stderr",
     "output_type": "stream",
     "text": []
    },
    {
     "name": "stdout",
     "output_type": "stream",
     "text": [
      "{'epoch': 8, 'step': 2500, 'loss': 0.11533966660499573}\n"
     ]
    },
    {
     "name": "stderr",
     "output_type": "stream",
     "text": []
    },
    {
     "name": "stdout",
     "output_type": "stream",
     "text": [
      "{'epoch': 8, 'step': 2600, 'loss': 0.120765320956707}\n"
     ]
    },
    {
     "name": "stderr",
     "output_type": "stream",
     "text": []
    },
    {
     "name": "stdout",
     "output_type": "stream",
     "text": [
      "{'epoch': 8, 'step': 2700, 'loss': 0.19434499740600586}\n"
     ]
    },
    {
     "name": "stderr",
     "output_type": "stream",
     "text": []
    },
    {
     "name": "stdout",
     "output_type": "stream",
     "text": [
      "{'epoch': 8, 'step': 2800, 'loss': 0.2065795212984085}\n"
     ]
    },
    {
     "name": "stderr",
     "output_type": "stream",
     "text": []
    },
    {
     "name": "stdout",
     "output_type": "stream",
     "text": [
      "{'epoch': 8, 'step': 2900, 'loss': 0.05719532072544098}\n"
     ]
    },
    {
     "name": "stderr",
     "output_type": "stream",
     "text": []
    },
    {
     "name": "stdout",
     "output_type": "stream",
     "text": [
      "{'epoch': 8, 'step': 3000, 'loss': 0.09900042414665222}\n"
     ]
    },
    {
     "name": "stderr",
     "output_type": "stream",
     "text": []
    },
    {
     "name": "stdout",
     "output_type": "stream",
     "text": [
      "{'epoch': 8, 'step': 3100, 'loss': 0.14217552542686462}\n"
     ]
    },
    {
     "name": "stderr",
     "output_type": "stream",
     "text": [
      "Iteration: 100%|██████████| 3133/3133 [22:39<00:00,  2.31it/s]\n",
      "Eval Iteration: 100%|██████████| 784/784 [12:53<00:00,  1.01it/s]\n"
     ]
    },
    {
     "name": "stdout",
     "output_type": "stream",
     "text": [
      "{'rouge1': 0.37864351505747285, 'rouge2': 0.2103563331041365, 'rougeL': 0.3730174215363994, 'rougeLsum': 0.37308553319130766}\n"
     ]
    },
    {
     "name": "stderr",
     "output_type": "stream",
     "text": [
      "Epoch:  75%|███████▌  | 9/12 [5:21:32<1:47:06, 2142.21s/it]"
     ]
    },
    {
     "name": "stdout",
     "output_type": "stream",
     "text": [
      "{'epoch': 9, 'step': 0, 'loss': 0.3296232223510742}\n"
     ]
    },
    {
     "name": "stderr",
     "output_type": "stream",
     "text": []
    },
    {
     "name": "stdout",
     "output_type": "stream",
     "text": [
      "{'epoch': 9, 'step': 100, 'loss': 0.10217148065567017}\n"
     ]
    },
    {
     "name": "stderr",
     "output_type": "stream",
     "text": []
    },
    {
     "name": "stdout",
     "output_type": "stream",
     "text": [
      "{'epoch': 9, 'step': 200, 'loss': 0.18546509742736816}\n"
     ]
    },
    {
     "name": "stderr",
     "output_type": "stream",
     "text": []
    },
    {
     "name": "stdout",
     "output_type": "stream",
     "text": [
      "{'epoch': 9, 'step': 300, 'loss': 0.22796395421028137}\n"
     ]
    },
    {
     "name": "stderr",
     "output_type": "stream",
     "text": []
    },
    {
     "name": "stdout",
     "output_type": "stream",
     "text": [
      "{'epoch': 9, 'step': 400, 'loss': 0.017187345772981644}\n"
     ]
    },
    {
     "name": "stderr",
     "output_type": "stream",
     "text": []
    },
    {
     "name": "stdout",
     "output_type": "stream",
     "text": [
      "{'epoch': 9, 'step': 500, 'loss': 0.10194041579961777}\n"
     ]
    },
    {
     "name": "stderr",
     "output_type": "stream",
     "text": []
    },
    {
     "name": "stdout",
     "output_type": "stream",
     "text": [
      "{'epoch': 9, 'step': 600, 'loss': 0.11842207610607147}\n"
     ]
    },
    {
     "name": "stderr",
     "output_type": "stream",
     "text": []
    },
    {
     "name": "stdout",
     "output_type": "stream",
     "text": [
      "{'epoch': 9, 'step': 700, 'loss': 0.1267170011997223}\n"
     ]
    },
    {
     "name": "stderr",
     "output_type": "stream",
     "text": []
    },
    {
     "name": "stdout",
     "output_type": "stream",
     "text": [
      "{'epoch': 9, 'step': 800, 'loss': 0.0956677496433258}\n"
     ]
    },
    {
     "name": "stderr",
     "output_type": "stream",
     "text": []
    },
    {
     "name": "stdout",
     "output_type": "stream",
     "text": [
      "{'epoch': 9, 'step': 900, 'loss': 0.07317019253969193}\n"
     ]
    },
    {
     "name": "stderr",
     "output_type": "stream",
     "text": []
    },
    {
     "name": "stdout",
     "output_type": "stream",
     "text": [
      "{'epoch': 9, 'step': 1000, 'loss': 0.327668696641922}\n"
     ]
    },
    {
     "name": "stderr",
     "output_type": "stream",
     "text": []
    },
    {
     "name": "stdout",
     "output_type": "stream",
     "text": [
      "{'epoch': 9, 'step': 1100, 'loss': 0.10578616708517075}\n"
     ]
    },
    {
     "name": "stderr",
     "output_type": "stream",
     "text": []
    },
    {
     "name": "stdout",
     "output_type": "stream",
     "text": [
      "{'epoch': 9, 'step': 1200, 'loss': 0.11260948330163956}\n"
     ]
    },
    {
     "name": "stderr",
     "output_type": "stream",
     "text": []
    },
    {
     "name": "stdout",
     "output_type": "stream",
     "text": [
      "{'epoch': 9, 'step': 1300, 'loss': 0.3232831060886383}\n"
     ]
    },
    {
     "name": "stderr",
     "output_type": "stream",
     "text": []
    },
    {
     "name": "stdout",
     "output_type": "stream",
     "text": [
      "{'epoch': 9, 'step': 1400, 'loss': 0.11540959775447845}\n"
     ]
    },
    {
     "name": "stderr",
     "output_type": "stream",
     "text": []
    },
    {
     "name": "stdout",
     "output_type": "stream",
     "text": [
      "{'epoch': 9, 'step': 1500, 'loss': 0.0996178537607193}\n"
     ]
    },
    {
     "name": "stderr",
     "output_type": "stream",
     "text": []
    },
    {
     "name": "stdout",
     "output_type": "stream",
     "text": [
      "{'epoch': 9, 'step': 1600, 'loss': 0.4793059229850769}\n"
     ]
    },
    {
     "name": "stderr",
     "output_type": "stream",
     "text": []
    },
    {
     "name": "stdout",
     "output_type": "stream",
     "text": [
      "{'epoch': 9, 'step': 1700, 'loss': 0.019216788932681084}\n"
     ]
    },
    {
     "name": "stderr",
     "output_type": "stream",
     "text": []
    },
    {
     "name": "stdout",
     "output_type": "stream",
     "text": [
      "{'epoch': 9, 'step': 1800, 'loss': 0.12269196659326553}\n"
     ]
    },
    {
     "name": "stderr",
     "output_type": "stream",
     "text": []
    },
    {
     "name": "stdout",
     "output_type": "stream",
     "text": [
      "{'epoch': 9, 'step': 1900, 'loss': 0.3356671929359436}\n"
     ]
    },
    {
     "name": "stderr",
     "output_type": "stream",
     "text": []
    },
    {
     "name": "stdout",
     "output_type": "stream",
     "text": [
      "{'epoch': 9, 'step': 2000, 'loss': 0.11338835209608078}\n"
     ]
    },
    {
     "name": "stderr",
     "output_type": "stream",
     "text": []
    },
    {
     "name": "stdout",
     "output_type": "stream",
     "text": [
      "{'epoch': 9, 'step': 2100, 'loss': 0.3380527198314667}\n"
     ]
    },
    {
     "name": "stderr",
     "output_type": "stream",
     "text": []
    },
    {
     "name": "stdout",
     "output_type": "stream",
     "text": [
      "{'epoch': 9, 'step': 2200, 'loss': 0.15992727875709534}\n"
     ]
    },
    {
     "name": "stderr",
     "output_type": "stream",
     "text": []
    },
    {
     "name": "stdout",
     "output_type": "stream",
     "text": [
      "{'epoch': 9, 'step': 2300, 'loss': 0.18534179031848907}\n"
     ]
    },
    {
     "name": "stderr",
     "output_type": "stream",
     "text": []
    },
    {
     "name": "stdout",
     "output_type": "stream",
     "text": [
      "{'epoch': 9, 'step': 2400, 'loss': 0.03757226839661598}\n"
     ]
    },
    {
     "name": "stderr",
     "output_type": "stream",
     "text": []
    },
    {
     "name": "stdout",
     "output_type": "stream",
     "text": [
      "{'epoch': 9, 'step': 2500, 'loss': 0.17842812836170197}\n"
     ]
    },
    {
     "name": "stderr",
     "output_type": "stream",
     "text": []
    },
    {
     "name": "stdout",
     "output_type": "stream",
     "text": [
      "{'epoch': 9, 'step': 2600, 'loss': 0.09059816598892212}\n"
     ]
    },
    {
     "name": "stderr",
     "output_type": "stream",
     "text": []
    },
    {
     "name": "stdout",
     "output_type": "stream",
     "text": [
      "{'epoch': 9, 'step': 2700, 'loss': 0.1288367062807083}\n"
     ]
    },
    {
     "name": "stderr",
     "output_type": "stream",
     "text": []
    },
    {
     "name": "stdout",
     "output_type": "stream",
     "text": [
      "{'epoch': 9, 'step': 2800, 'loss': 0.32323941588401794}\n"
     ]
    },
    {
     "name": "stderr",
     "output_type": "stream",
     "text": []
    },
    {
     "name": "stdout",
     "output_type": "stream",
     "text": [
      "{'epoch': 9, 'step': 2900, 'loss': 0.053478922694921494}\n"
     ]
    },
    {
     "name": "stderr",
     "output_type": "stream",
     "text": []
    },
    {
     "name": "stdout",
     "output_type": "stream",
     "text": [
      "{'epoch': 9, 'step': 3000, 'loss': 0.1964823603630066}\n"
     ]
    },
    {
     "name": "stderr",
     "output_type": "stream",
     "text": []
    },
    {
     "name": "stdout",
     "output_type": "stream",
     "text": [
      "{'epoch': 9, 'step': 3100, 'loss': 0.02756020799279213}\n"
     ]
    },
    {
     "name": "stderr",
     "output_type": "stream",
     "text": [
      "Iteration: 100%|██████████| 3133/3133 [22:39<00:00,  2.31it/s]\n",
      "Eval Iteration: 100%|██████████| 784/784 [12:49<00:00,  1.02it/s]\n"
     ]
    },
    {
     "name": "stdout",
     "output_type": "stream",
     "text": [
      "{'rouge1': 0.37864351505747285, 'rouge2': 0.2103563331041365, 'rougeL': 0.3730174215363994, 'rougeLsum': 0.37308553319130766}\n"
     ]
    },
    {
     "name": "stderr",
     "output_type": "stream",
     "text": [
      "Epoch:  83%|████████▎ | 10/12 [5:57:07<1:11:19, 2139.99s/it]"
     ]
    },
    {
     "name": "stdout",
     "output_type": "stream",
     "text": [
      "{'epoch': 10, 'step': 0, 'loss': 0.14962710440158844}\n"
     ]
    },
    {
     "name": "stderr",
     "output_type": "stream",
     "text": []
    },
    {
     "name": "stdout",
     "output_type": "stream",
     "text": [
      "{'epoch': 10, 'step': 100, 'loss': 0.2836413085460663}\n"
     ]
    },
    {
     "name": "stderr",
     "output_type": "stream",
     "text": []
    },
    {
     "name": "stdout",
     "output_type": "stream",
     "text": [
      "{'epoch': 10, 'step': 200, 'loss': 0.06143704801797867}\n"
     ]
    },
    {
     "name": "stderr",
     "output_type": "stream",
     "text": []
    },
    {
     "name": "stdout",
     "output_type": "stream",
     "text": [
      "{'epoch': 10, 'step': 300, 'loss': 0.11750835925340652}\n"
     ]
    },
    {
     "name": "stderr",
     "output_type": "stream",
     "text": []
    },
    {
     "name": "stdout",
     "output_type": "stream",
     "text": [
      "{'epoch': 10, 'step': 400, 'loss': 0.1875179260969162}\n"
     ]
    },
    {
     "name": "stderr",
     "output_type": "stream",
     "text": []
    },
    {
     "name": "stdout",
     "output_type": "stream",
     "text": [
      "{'epoch': 10, 'step': 500, 'loss': 0.05627031996846199}\n"
     ]
    },
    {
     "name": "stderr",
     "output_type": "stream",
     "text": []
    },
    {
     "name": "stdout",
     "output_type": "stream",
     "text": [
      "{'epoch': 10, 'step': 600, 'loss': 0.15802554786205292}\n"
     ]
    },
    {
     "name": "stderr",
     "output_type": "stream",
     "text": []
    },
    {
     "name": "stdout",
     "output_type": "stream",
     "text": [
      "{'epoch': 10, 'step': 700, 'loss': 0.07149188220500946}\n"
     ]
    },
    {
     "name": "stderr",
     "output_type": "stream",
     "text": []
    },
    {
     "name": "stdout",
     "output_type": "stream",
     "text": [
      "{'epoch': 10, 'step': 800, 'loss': 0.08709468692541122}\n"
     ]
    },
    {
     "name": "stderr",
     "output_type": "stream",
     "text": []
    },
    {
     "name": "stdout",
     "output_type": "stream",
     "text": [
      "{'epoch': 10, 'step': 900, 'loss': 0.3212118148803711}\n"
     ]
    },
    {
     "name": "stderr",
     "output_type": "stream",
     "text": []
    },
    {
     "name": "stdout",
     "output_type": "stream",
     "text": [
      "{'epoch': 10, 'step': 1000, 'loss': 0.09255184233188629}\n"
     ]
    },
    {
     "name": "stderr",
     "output_type": "stream",
     "text": []
    },
    {
     "name": "stdout",
     "output_type": "stream",
     "text": [
      "{'epoch': 10, 'step': 1100, 'loss': 0.24303753674030304}\n"
     ]
    },
    {
     "name": "stderr",
     "output_type": "stream",
     "text": []
    },
    {
     "name": "stdout",
     "output_type": "stream",
     "text": [
      "{'epoch': 10, 'step': 1200, 'loss': 0.09189732372760773}\n"
     ]
    },
    {
     "name": "stderr",
     "output_type": "stream",
     "text": []
    },
    {
     "name": "stdout",
     "output_type": "stream",
     "text": [
      "{'epoch': 10, 'step': 1300, 'loss': 0.07502859830856323}\n"
     ]
    },
    {
     "name": "stderr",
     "output_type": "stream",
     "text": []
    },
    {
     "name": "stdout",
     "output_type": "stream",
     "text": [
      "{'epoch': 10, 'step': 1400, 'loss': 0.054900746792554855}\n"
     ]
    },
    {
     "name": "stderr",
     "output_type": "stream",
     "text": []
    },
    {
     "name": "stdout",
     "output_type": "stream",
     "text": [
      "{'epoch': 10, 'step': 1500, 'loss': 0.24858155846595764}\n"
     ]
    },
    {
     "name": "stderr",
     "output_type": "stream",
     "text": []
    },
    {
     "name": "stdout",
     "output_type": "stream",
     "text": [
      "{'epoch': 10, 'step': 1600, 'loss': 0.043185800313949585}\n"
     ]
    },
    {
     "name": "stderr",
     "output_type": "stream",
     "text": []
    },
    {
     "name": "stdout",
     "output_type": "stream",
     "text": [
      "{'epoch': 10, 'step': 1700, 'loss': 0.43352484703063965}\n"
     ]
    },
    {
     "name": "stderr",
     "output_type": "stream",
     "text": []
    },
    {
     "name": "stdout",
     "output_type": "stream",
     "text": [
      "{'epoch': 10, 'step': 1800, 'loss': 0.05389132350683212}\n"
     ]
    },
    {
     "name": "stderr",
     "output_type": "stream",
     "text": []
    },
    {
     "name": "stdout",
     "output_type": "stream",
     "text": [
      "{'epoch': 10, 'step': 1900, 'loss': 0.0462263748049736}\n"
     ]
    },
    {
     "name": "stderr",
     "output_type": "stream",
     "text": []
    },
    {
     "name": "stdout",
     "output_type": "stream",
     "text": [
      "{'epoch': 10, 'step': 2000, 'loss': 0.2887672185897827}\n"
     ]
    },
    {
     "name": "stderr",
     "output_type": "stream",
     "text": []
    },
    {
     "name": "stdout",
     "output_type": "stream",
     "text": [
      "{'epoch': 10, 'step': 2100, 'loss': 0.07673341780900955}\n"
     ]
    },
    {
     "name": "stderr",
     "output_type": "stream",
     "text": []
    },
    {
     "name": "stdout",
     "output_type": "stream",
     "text": [
      "{'epoch': 10, 'step': 2200, 'loss': 0.2031835913658142}\n"
     ]
    },
    {
     "name": "stderr",
     "output_type": "stream",
     "text": []
    },
    {
     "name": "stdout",
     "output_type": "stream",
     "text": [
      "{'epoch': 10, 'step': 2300, 'loss': 0.06927520781755447}\n"
     ]
    },
    {
     "name": "stderr",
     "output_type": "stream",
     "text": []
    },
    {
     "name": "stdout",
     "output_type": "stream",
     "text": [
      "{'epoch': 10, 'step': 2400, 'loss': 0.16037926077842712}\n"
     ]
    },
    {
     "name": "stderr",
     "output_type": "stream",
     "text": []
    },
    {
     "name": "stdout",
     "output_type": "stream",
     "text": [
      "{'epoch': 10, 'step': 2500, 'loss': 0.1878155618906021}\n"
     ]
    },
    {
     "name": "stderr",
     "output_type": "stream",
     "text": []
    },
    {
     "name": "stdout",
     "output_type": "stream",
     "text": [
      "{'epoch': 10, 'step': 2600, 'loss': 0.1462363451719284}\n"
     ]
    },
    {
     "name": "stderr",
     "output_type": "stream",
     "text": []
    },
    {
     "name": "stdout",
     "output_type": "stream",
     "text": [
      "{'epoch': 10, 'step': 2700, 'loss': 0.078933946788311}\n"
     ]
    },
    {
     "name": "stderr",
     "output_type": "stream",
     "text": []
    },
    {
     "name": "stdout",
     "output_type": "stream",
     "text": [
      "{'epoch': 10, 'step': 2800, 'loss': 0.10949352383613586}\n"
     ]
    },
    {
     "name": "stderr",
     "output_type": "stream",
     "text": []
    },
    {
     "name": "stdout",
     "output_type": "stream",
     "text": [
      "{'epoch': 10, 'step': 2900, 'loss': 0.12258151173591614}\n"
     ]
    },
    {
     "name": "stderr",
     "output_type": "stream",
     "text": []
    },
    {
     "name": "stdout",
     "output_type": "stream",
     "text": [
      "{'epoch': 10, 'step': 3000, 'loss': 0.07569026201963425}\n"
     ]
    },
    {
     "name": "stderr",
     "output_type": "stream",
     "text": []
    },
    {
     "name": "stdout",
     "output_type": "stream",
     "text": [
      "{'epoch': 10, 'step': 3100, 'loss': 0.26778337359428406}\n"
     ]
    },
    {
     "name": "stderr",
     "output_type": "stream",
     "text": [
      "Iteration: 100%|██████████| 3133/3133 [22:38<00:00,  2.31it/s]\n",
      "Eval Iteration: 100%|██████████| 784/784 [12:52<00:00,  1.01it/s]\n"
     ]
    },
    {
     "name": "stdout",
     "output_type": "stream",
     "text": [
      "{'rouge1': 0.37864351505747285, 'rouge2': 0.2103563331041365, 'rougeL': 0.3730174215363994, 'rougeLsum': 0.37308553319130766}\n"
     ]
    },
    {
     "name": "stderr",
     "output_type": "stream",
     "text": [
      "Epoch:  92%|█████████▏| 11/12 [6:32:45<35:39, 2139.24s/it]  "
     ]
    },
    {
     "name": "stdout",
     "output_type": "stream",
     "text": [
      "{'epoch': 11, 'step': 0, 'loss': 0.06531437486410141}\n"
     ]
    },
    {
     "name": "stderr",
     "output_type": "stream",
     "text": []
    },
    {
     "name": "stdout",
     "output_type": "stream",
     "text": [
      "{'epoch': 11, 'step': 100, 'loss': 0.20427097380161285}\n"
     ]
    },
    {
     "name": "stderr",
     "output_type": "stream",
     "text": []
    },
    {
     "name": "stdout",
     "output_type": "stream",
     "text": [
      "{'epoch': 11, 'step': 200, 'loss': 0.09906531870365143}\n"
     ]
    },
    {
     "name": "stderr",
     "output_type": "stream",
     "text": []
    },
    {
     "name": "stdout",
     "output_type": "stream",
     "text": [
      "{'epoch': 11, 'step': 300, 'loss': 0.0653161108493805}\n"
     ]
    },
    {
     "name": "stderr",
     "output_type": "stream",
     "text": []
    },
    {
     "name": "stdout",
     "output_type": "stream",
     "text": [
      "{'epoch': 11, 'step': 400, 'loss': 0.05994882807135582}\n"
     ]
    },
    {
     "name": "stderr",
     "output_type": "stream",
     "text": []
    },
    {
     "name": "stdout",
     "output_type": "stream",
     "text": [
      "{'epoch': 11, 'step': 500, 'loss': 0.0795726552605629}\n"
     ]
    },
    {
     "name": "stderr",
     "output_type": "stream",
     "text": []
    },
    {
     "name": "stdout",
     "output_type": "stream",
     "text": [
      "{'epoch': 11, 'step': 600, 'loss': 0.14565376937389374}\n"
     ]
    },
    {
     "name": "stderr",
     "output_type": "stream",
     "text": []
    },
    {
     "name": "stdout",
     "output_type": "stream",
     "text": [
      "{'epoch': 11, 'step': 700, 'loss': 0.07344433665275574}\n"
     ]
    },
    {
     "name": "stderr",
     "output_type": "stream",
     "text": []
    },
    {
     "name": "stdout",
     "output_type": "stream",
     "text": [
      "{'epoch': 11, 'step': 800, 'loss': 0.10476371645927429}\n"
     ]
    },
    {
     "name": "stderr",
     "output_type": "stream",
     "text": []
    },
    {
     "name": "stdout",
     "output_type": "stream",
     "text": [
      "{'epoch': 11, 'step': 900, 'loss': 0.08474799990653992}\n"
     ]
    },
    {
     "name": "stderr",
     "output_type": "stream",
     "text": []
    },
    {
     "name": "stdout",
     "output_type": "stream",
     "text": [
      "{'epoch': 11, 'step': 1000, 'loss': 0.06301656365394592}\n"
     ]
    },
    {
     "name": "stderr",
     "output_type": "stream",
     "text": []
    },
    {
     "name": "stdout",
     "output_type": "stream",
     "text": [
      "{'epoch': 11, 'step': 1100, 'loss': 0.049801748245954514}\n"
     ]
    },
    {
     "name": "stderr",
     "output_type": "stream",
     "text": []
    },
    {
     "name": "stdout",
     "output_type": "stream",
     "text": [
      "{'epoch': 11, 'step': 1200, 'loss': 0.043753642588853836}\n"
     ]
    },
    {
     "name": "stderr",
     "output_type": "stream",
     "text": []
    },
    {
     "name": "stdout",
     "output_type": "stream",
     "text": [
      "{'epoch': 11, 'step': 1300, 'loss': 0.2638190984725952}\n"
     ]
    },
    {
     "name": "stderr",
     "output_type": "stream",
     "text": []
    },
    {
     "name": "stdout",
     "output_type": "stream",
     "text": [
      "{'epoch': 11, 'step': 1400, 'loss': 0.23056364059448242}\n"
     ]
    },
    {
     "name": "stderr",
     "output_type": "stream",
     "text": []
    },
    {
     "name": "stdout",
     "output_type": "stream",
     "text": [
      "{'epoch': 11, 'step': 1500, 'loss': 0.10152462124824524}\n"
     ]
    },
    {
     "name": "stderr",
     "output_type": "stream",
     "text": []
    },
    {
     "name": "stdout",
     "output_type": "stream",
     "text": [
      "{'epoch': 11, 'step': 1600, 'loss': 0.06498575210571289}\n"
     ]
    },
    {
     "name": "stderr",
     "output_type": "stream",
     "text": []
    },
    {
     "name": "stdout",
     "output_type": "stream",
     "text": [
      "{'epoch': 11, 'step': 1700, 'loss': 0.15279459953308105}\n"
     ]
    },
    {
     "name": "stderr",
     "output_type": "stream",
     "text": []
    },
    {
     "name": "stdout",
     "output_type": "stream",
     "text": [
      "{'epoch': 11, 'step': 1800, 'loss': 0.17894504964351654}\n"
     ]
    },
    {
     "name": "stderr",
     "output_type": "stream",
     "text": []
    },
    {
     "name": "stdout",
     "output_type": "stream",
     "text": [
      "{'epoch': 11, 'step': 1900, 'loss': 0.07056690007448196}\n"
     ]
    },
    {
     "name": "stderr",
     "output_type": "stream",
     "text": []
    },
    {
     "name": "stdout",
     "output_type": "stream",
     "text": [
      "{'epoch': 11, 'step': 2000, 'loss': 0.16970187425613403}\n"
     ]
    },
    {
     "name": "stderr",
     "output_type": "stream",
     "text": []
    },
    {
     "name": "stdout",
     "output_type": "stream",
     "text": [
      "{'epoch': 11, 'step': 2100, 'loss': 0.07987633347511292}\n"
     ]
    },
    {
     "name": "stderr",
     "output_type": "stream",
     "text": []
    },
    {
     "name": "stdout",
     "output_type": "stream",
     "text": [
      "{'epoch': 11, 'step': 2200, 'loss': 0.10932459682226181}\n"
     ]
    },
    {
     "name": "stderr",
     "output_type": "stream",
     "text": []
    },
    {
     "name": "stdout",
     "output_type": "stream",
     "text": [
      "{'epoch': 11, 'step': 2300, 'loss': 0.06768417358398438}\n"
     ]
    },
    {
     "name": "stderr",
     "output_type": "stream",
     "text": []
    },
    {
     "name": "stdout",
     "output_type": "stream",
     "text": [
      "{'epoch': 11, 'step': 2400, 'loss': 0.21936504542827606}\n"
     ]
    },
    {
     "name": "stderr",
     "output_type": "stream",
     "text": []
    },
    {
     "name": "stdout",
     "output_type": "stream",
     "text": [
      "{'epoch': 11, 'step': 2500, 'loss': 0.11308334767818451}\n"
     ]
    },
    {
     "name": "stderr",
     "output_type": "stream",
     "text": []
    },
    {
     "name": "stdout",
     "output_type": "stream",
     "text": [
      "{'epoch': 11, 'step': 2600, 'loss': 0.14592231810092926}\n"
     ]
    },
    {
     "name": "stderr",
     "output_type": "stream",
     "text": []
    },
    {
     "name": "stdout",
     "output_type": "stream",
     "text": [
      "{'epoch': 11, 'step': 2700, 'loss': 0.005872334819287062}\n"
     ]
    },
    {
     "name": "stderr",
     "output_type": "stream",
     "text": []
    },
    {
     "name": "stdout",
     "output_type": "stream",
     "text": [
      "{'epoch': 11, 'step': 2800, 'loss': 0.1788068264722824}\n"
     ]
    },
    {
     "name": "stderr",
     "output_type": "stream",
     "text": []
    },
    {
     "name": "stdout",
     "output_type": "stream",
     "text": [
      "{'epoch': 11, 'step': 2900, 'loss': 0.05936203524470329}\n"
     ]
    },
    {
     "name": "stderr",
     "output_type": "stream",
     "text": []
    },
    {
     "name": "stdout",
     "output_type": "stream",
     "text": [
      "{'epoch': 11, 'step': 3000, 'loss': 0.22672352194786072}\n"
     ]
    },
    {
     "name": "stderr",
     "output_type": "stream",
     "text": []
    },
    {
     "name": "stdout",
     "output_type": "stream",
     "text": [
      "{'epoch': 11, 'step': 3100, 'loss': 0.05551273375749588}\n"
     ]
    },
    {
     "name": "stderr",
     "output_type": "stream",
     "text": [
      "Iteration: 100%|██████████| 3133/3133 [22:38<00:00,  2.31it/s]\n",
      "Eval Iteration: 100%|██████████| 784/784 [12:48<00:00,  1.02it/s]\n"
     ]
    },
    {
     "name": "stdout",
     "output_type": "stream",
     "text": [
      "{'rouge1': 0.37864351505747285, 'rouge2': 0.2103563331041365, 'rougeL': 0.3730174215363994, 'rougeLsum': 0.37308553319130766}\n"
     ]
    },
    {
     "name": "stderr",
     "output_type": "stream",
     "text": [
      "Epoch: 100%|██████████| 12/12 [7:08:18<00:00, 2141.58s/it]\n"
     ]
    }
   ],
   "source": [
    "logger = logging.getLogger(__name__)\n",
    "logging.basicConfig(\n",
    "    format=\"%(asctime)s - %(levelname)s - %(name)s - %(message)s\",\n",
    "    datefmt=\"%m/%d/%Y %H:%M:%S\",\n",
    "    level=logging.INFO,\n",
    ")\n",
    "logger.info(accelerator.state)\n",
    "output_dir = 'model_bart/'\n",
    "\n",
    "\n",
    "total_batch_size = train_batch_size * accelerator.num_processes * gradient_accumulation_steps\n",
    "\n",
    "logger.info(\"***** Running training *****\")\n",
    "logger.info(f\"  Num examples = {len(train_articles)}\")\n",
    "logger.info(f\"  Num Epochs = {num_train_epochs}\")\n",
    "logger.info(f\"  Instantaneous batch size per device = {train_batch_size}\")\n",
    "logger.info(f\"  Total train batch size (w. parallel, distributed & accumulation) = {total_batch_size}\")\n",
    "logger.info(f\"  Gradient Accumulation steps = {gradient_accumulation_steps}\")\n",
    "logger.info(f\"  Total optimization steps = {max_train_steps}\")\n",
    "\n",
    "\n",
    "best_epoch = {\"epoch\": 0, \"rouge\": 0 }\n",
    "\n",
    "import evaluate\n",
    "rouge_score = evaluate.load(\"rouge\")\n",
    "for epoch in trange(num_train_epochs, desc=\"Epoch\"):\n",
    "    model.train()\n",
    "    for step, batch in enumerate(tqdm(train_dataloader, desc=\"Iteration\")):\n",
    "        with accelerator.accumulate(model):\n",
    "            outputs = model(**batch)\n",
    "            loss = outputs.loss\n",
    "            accelerator.backward(loss)\n",
    "            optimizer.step()\n",
    "            lr_scheduler.step()\n",
    "            optimizer.zero_grad()\n",
    "\n",
    "        if step % 100 == 0:\n",
    "            print({'epoch': epoch, 'step': step, 'loss': loss.item()})\n",
    "\n",
    "\n",
    "    logger.info(\"\\n***** Running eval *****\")\n",
    "    model.eval()\n",
    "    preds=[]\n",
    "    answers=[]\n",
    "    with torch.no_grad():\n",
    "        for step, batch in enumerate(tqdm(eval_dataloader, desc=\"Eval Iteration\")):\n",
    "            outputs = model(**batch)\n",
    "            output_ids = model.generate(batch['input_ids'], num_beams=2, max_length=150, early_stopping=True)\n",
    "            preds.append(\" \".join([tokenizer.decode(g, skip_special_tokens=True, clean_up_tokenization_spaces=False) for g in output_ids]))\n",
    "            answers.append(\" \".join([tokenizer.decode(g, skip_special_tokens=True, clean_up_tokenization_spaces=False) for g in batch['labels']]))\n",
    "    \n",
    "    \n",
    "    scores = rouge_score.compute(\n",
    "    predictions=preds, references=answers\n",
    "    )\n",
    "    print(scores)\n",
    "    eval_precision=scores[\"rougeL\"]\n",
    "    logger.info(f\"epoch :{epoch} \\n rougeL:  {eval_precision}\")\n",
    "    if eval_precision > best_epoch[\"rouge\"]:\n",
    "        best_epoch['epoch'] = num_train_epochs\n",
    "        best_epoch['rouge'] = eval_precision\n",
    "    \n",
    "    if output_dir is not None and epoch>5:\n",
    "        accelerator.wait_for_everyone()\n",
    "        unwrapped_model = accelerator.unwrap_model(model)\n",
    "        unwrapped_model.save_pretrained(output_dir + 'new_epoch_' + str(epoch) + '/', save_function=accelerator.save)\n",
    "\n",
    "# print(f\"best epoch:{best_epoch}\")"
   ]
  },
  {
   "cell_type": "code",
   "execution_count": 46,
   "metadata": {},
   "outputs": [
    {
     "name": "stdout",
     "output_type": "stream",
     "text": [
      "best epoch:{'epoch': 12, 'rouge': 0.3730174215363994}\n"
     ]
    }
   ],
   "source": [
    "print(f\"best epoch:{best_epoch}\")"
   ]
  },
  {
   "cell_type": "markdown",
   "metadata": {},
   "source": [
    "# Test"
   ]
  },
  {
   "cell_type": "code",
   "execution_count": 47,
   "metadata": {},
   "outputs": [],
   "source": [
    "test_dataloader = DataLoader(test_data, shuffle=True, collate_fn=data_collator, batch_size=train_batch_size)"
   ]
  },
  {
   "cell_type": "code",
   "execution_count": 48,
   "metadata": {},
   "outputs": [
    {
     "name": "stdout",
     "output_type": "stream",
     "text": [
      "cuda\n"
     ]
    }
   ],
   "source": [
    "import torch\n",
    "\n",
    "device = torch.device(\"cuda\" if torch.cuda.is_available() else \"cpu\")\n",
    "print(device)"
   ]
  },
  {
   "cell_type": "code",
   "execution_count": 49,
   "metadata": {},
   "outputs": [],
   "source": [
    "from transformers import BartTokenizer, BartForConditionalGeneration ,BartConfig\n",
    "from tqdm.auto import tqdm\n",
    "\n",
    "\n",
    "\n",
    "config = BartConfig.from_pretrained(\"/user_data/text_summarization/model_bart/new_epoch_11/config.json\")\n",
    "model = BartForConditionalGeneration.from_pretrained(\"/user_data/text_summarization/model_bart/new_epoch_11/model.safetensors\", config=config)\n",
    "tokenizer = BartTokenizer.from_pretrained(\"facebook/bart-base\")\n",
    "\n",
    "model = model.to(device)\n",
    "def Summarize_model(model, text):\n",
    "\n",
    "    input_encodings = tokenizer(\n",
    "                                    [text],\n",
    "                                    max_length=1024,\n",
    "                                    return_tensors=\"pt\",\n",
    "                                    truncation=True\n",
    "                                ).to(device)\n",
    "\n",
    "\n",
    "    output_ids = model.generate(\n",
    "        **input_encodings, \n",
    "        num_beams=1, \n",
    "        max_length=150, \n",
    "        repetition_penalty=2.5,\n",
    "        length_penalty=1.0,\n",
    "        early_stopping=False,\n",
    "        no_repeat_ngram_size= 5, \n",
    "        num_return_sequences=1\n",
    "    )\n",
    "\n",
    "    return output_ids"
   ]
  },
  {
   "cell_type": "code",
   "execution_count": 50,
   "metadata": {},
   "outputs": [
    {
     "name": "stderr",
     "output_type": "stream",
     "text": [
      " 10%|█         | 500/4895 [05:21<47:40,  1.54it/s]"
     ]
    },
    {
     "name": "stdout",
     "output_type": "stream",
     "text": [
      "Processed 500 samples\n"
     ]
    },
    {
     "name": "stderr",
     "output_type": "stream",
     "text": [
      " 20%|██        | 1000/4895 [10:43<40:45,  1.59it/s]"
     ]
    },
    {
     "name": "stdout",
     "output_type": "stream",
     "text": [
      "Processed 1000 samples\n"
     ]
    },
    {
     "name": "stderr",
     "output_type": "stream",
     "text": [
      " 31%|███       | 1500/4895 [16:04<37:40,  1.50it/s]"
     ]
    },
    {
     "name": "stdout",
     "output_type": "stream",
     "text": [
      "Processed 1500 samples\n"
     ]
    },
    {
     "name": "stderr",
     "output_type": "stream",
     "text": [
      " 41%|████      | 2000/4895 [21:28<32:37,  1.48it/s]"
     ]
    },
    {
     "name": "stdout",
     "output_type": "stream",
     "text": [
      "Processed 2000 samples\n"
     ]
    },
    {
     "name": "stderr",
     "output_type": "stream",
     "text": [
      " 51%|█████     | 2500/4895 [26:50<25:55,  1.54it/s]"
     ]
    },
    {
     "name": "stdout",
     "output_type": "stream",
     "text": [
      "Processed 2500 samples\n"
     ]
    },
    {
     "name": "stderr",
     "output_type": "stream",
     "text": [
      " 61%|██████▏   | 3000/4895 [32:13<20:08,  1.57it/s]"
     ]
    },
    {
     "name": "stdout",
     "output_type": "stream",
     "text": [
      "Processed 3000 samples\n"
     ]
    },
    {
     "name": "stderr",
     "output_type": "stream",
     "text": [
      " 72%|███████▏  | 3500/4895 [37:35<15:10,  1.53it/s]"
     ]
    },
    {
     "name": "stdout",
     "output_type": "stream",
     "text": [
      "Processed 3500 samples\n"
     ]
    },
    {
     "name": "stderr",
     "output_type": "stream",
     "text": [
      " 82%|████████▏ | 4000/4895 [42:56<09:33,  1.56it/s]"
     ]
    },
    {
     "name": "stdout",
     "output_type": "stream",
     "text": [
      "Processed 4000 samples\n"
     ]
    },
    {
     "name": "stderr",
     "output_type": "stream",
     "text": [
      " 92%|█████████▏| 4500/4895 [48:18<04:15,  1.54it/s]"
     ]
    },
    {
     "name": "stdout",
     "output_type": "stream",
     "text": [
      "Processed 4500 samples\n"
     ]
    },
    {
     "name": "stderr",
     "output_type": "stream",
     "text": [
      "100%|██████████| 4895/4895 [52:31<00:00,  1.55it/s]\n"
     ]
    },
    {
     "name": "stdout",
     "output_type": "stream",
     "text": [
      "{'rouge1': 0.14017096609634533, 'rouge2': 0.0437449856022438, 'rougeL': 0.13874884411076938, 'rougeLsum': 0.13864855563719203}\n",
      "ROUGE-L score: 0.13874884411076938\n"
     ]
    }
   ],
   "source": [
    "# 假設您已經有 test_articles 和 test_summaries 變數，它們是待測試的文章和摘要\n",
    "# 還有您之前定義好的 Summarize_model 函式\n",
    "\n",
    "model.eval()  # 設置模型為評估模式\n",
    "\n",
    "# 存儲模型生成的摘要和參考摘要\n",
    "generated_summaries = []\n",
    "reference_summaries = []\n",
    "\n",
    "with torch.no_grad():  # 確保在測試過程中不會計算梯度\n",
    "    for i, (article, reference_summary) in enumerate(tqdm(zip(test_articles, test_summaries), total=len(test_articles))):\n",
    "        # 生成摘要\n",
    "        output_ids = Summarize_model(model, article)\n",
    "        \n",
    "        # 解碼模型生成的 token IDs 為文本\n",
    "        generated_summary = [tokenizer.decode(output_id, skip_special_tokens=True, clean_up_tokenization_spaces=False) for output_id in output_ids]\n",
    "        \n",
    "        # 儲存生成的摘要和參考摘要\n",
    "        generated_summaries.extend(generated_summary)\n",
    "        reference_summaries.append(reference_summary)  # 假設參考摘要是一個字符串\n",
    "\n",
    "        # 每測完 100 筆資料顯示一個檢查點\n",
    "        if (i + 1) % 500 == 0:\n",
    "            print(f\"Processed {i + 1} samples\")\n",
    "\n",
    "import evaluate\n",
    "rouge_score = evaluate.load(\"rouge\")\n",
    "\n",
    "scores = rouge_score.compute(\n",
    "predictions=generated_summaries, references=reference_summaries\n",
    ")\n",
    "print(scores)\n",
    "eval_precision=scores[\"rougeL\"]\n",
    "print(f'ROUGE-L score: {eval_precision}')"
   ]
  },
  {
   "cell_type": "code",
   "execution_count": 51,
   "metadata": {},
   "outputs": [
    {
     "name": "stdout",
     "output_type": "stream",
     "text": [
      "{'rouge1': 0.14017096609634533, 'rouge2': 0.0437449856022438, 'rougeL': 0.13874884411076938, 'rougeLsum': 0.13864855563719203}\n",
      "ROUGE-L score: 0.13874884411076938\n"
     ]
    }
   ],
   "source": [
    "import evaluate\n",
    "rouge_score = evaluate.load(\"rouge\")\n",
    "\n",
    "scores = rouge_score.compute(\n",
    "predictions=generated_summaries, references=reference_summaries\n",
    ")\n",
    "print(scores)\n",
    "eval_precision=scores[\"rougeL\"]\n",
    "print(f'ROUGE-L score: {eval_precision}')"
   ]
  },
  {
   "cell_type": "markdown",
   "metadata": {},
   "source": [
    "# Inference"
   ]
  },
  {
   "cell_type": "code",
   "execution_count": 53,
   "metadata": {},
   "outputs": [
    {
     "name": "stdout",
     "output_type": "stream",
     "text": [
      "Output:\n",
      "----------------------------------------------------------------------------------------------------\n",
      "KST）， 台灣樂團。成立於2013年，團名來自希臘哲學家赫拉克利特（Heraclitus）的名言 「Change is the only constant in life.」「唯一不變的就是永遠在變化」，也是佛說「無常」。\n"
     ]
    }
   ],
   "source": [
    "from transformers import BartTokenizer, BartForConditionalGeneration ,BartConfig\n",
    "\n",
    "\n",
    "config = BartConfig.from_pretrained(\"/user_data/text_summarization/model_bart/new_epoch_11/config.json\")\n",
    "model = BartForConditionalGeneration.from_pretrained(\"/user_data/text_summarization/model_bart/new_epoch_11/model.safetensors\", config=config)\n",
    "tokenizer = BartTokenizer.from_pretrained(\"facebook/bart-base\")\n",
    "\n",
    "\n",
    "def Summarize_model(model, text):\n",
    "\n",
    "    input_encodings = tokenizer(\n",
    "                                    [text],\n",
    "                                    max_length=1024,\n",
    "                                    return_tensors=\"pt\",\n",
    "                                    truncation=True\n",
    "                                )\n",
    "\n",
    "\n",
    "    output_ids = model.generate(\n",
    "        **input_encodings, \n",
    "        num_beams=5, \n",
    "        max_length=150, \n",
    "        repetition_penalty=2.5,\n",
    "        length_penalty=1.0,\n",
    "        early_stopping=False,\n",
    "        no_repeat_ngram_size= 5, \n",
    "        num_return_sequences=1\n",
    "    )\n",
    "\n",
    "    return output_ids\n",
    "\n",
    "context=\"Hugging Face是一家美國公司，專門開發用於構建機器學習應用的工具。\\\n",
    "        該公司的代表產品是其為自然語言處理應用構建的transformers庫，\\\n",
    "        以及允許使用者共享機器學習模型和資料集的平台。\"\n",
    "\n",
    "summarize = Summarize_model(model, context)\n",
    "\n",
    "print(\"Output:\\n\" + 100 * '-')\n",
    "# for i, beam_output in enumerate(summarize):\n",
    "#   print(\"{}: {}\".format(i, tokenizer.decode(beam_output, skip_special_tokens=True)))\n",
    "\n",
    "print(tokenizer.decode(summarize[0], skip_special_tokens=True))\n"
   ]
  }
 ],
 "metadata": {
  "kernelspec": {
   "display_name": "Python 3",
   "language": "python",
   "name": "python3"
  },
  "language_info": {
   "codemirror_mode": {
    "name": "ipython",
    "version": 3
   },
   "file_extension": ".py",
   "mimetype": "text/x-python",
   "name": "python",
   "nbconvert_exporter": "python",
   "pygments_lexer": "ipython3",
   "version": "3.10.12"
  }
 },
 "nbformat": 4,
 "nbformat_minor": 2
}
