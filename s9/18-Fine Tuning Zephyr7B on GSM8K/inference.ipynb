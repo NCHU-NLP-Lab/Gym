{
 "cells": [
  {
   "cell_type": "code",
   "execution_count": 1,
   "metadata": {},
   "outputs": [
    {
     "name": "stdout",
     "output_type": "stream",
     "text": [
      "GPU: NVIDIA GeForce RTX 4090\n"
     ]
    },
    {
     "name": "stderr",
     "output_type": "stream",
     "text": [
      "2024-01-08 15:41:16.580929: I tensorflow/core/util/port.cc:111] oneDNN custom operations are on. You may see slightly different numerical results due to floating-point round-off errors from different computation orders. To turn them off, set the environment variable `TF_ENABLE_ONEDNN_OPTS=0`.\n",
      "2024-01-08 15:41:16.599822: E tensorflow/compiler/xla/stream_executor/cuda/cuda_dnn.cc:9342] Unable to register cuDNN factory: Attempting to register factory for plugin cuDNN when one has already been registered\n",
      "2024-01-08 15:41:16.599843: E tensorflow/compiler/xla/stream_executor/cuda/cuda_fft.cc:609] Unable to register cuFFT factory: Attempting to register factory for plugin cuFFT when one has already been registered\n",
      "2024-01-08 15:41:16.599858: E tensorflow/compiler/xla/stream_executor/cuda/cuda_blas.cc:1518] Unable to register cuBLAS factory: Attempting to register factory for plugin cuBLAS when one has already been registered\n",
      "2024-01-08 15:41:16.604075: I tensorflow/core/platform/cpu_feature_guard.cc:182] This TensorFlow binary is optimized to use available CPU instructions in performance-critical operations.\n",
      "To enable the following instructions: AVX2 AVX_VNNI FMA, in other operations, rebuild TensorFlow with the appropriate compiler flags.\n",
      "2024-01-08 15:41:17.061944: W tensorflow/compiler/tf2tensorrt/utils/py_utils.cc:38] TF-TRT Warning: Could not find TensorRT\n"
     ]
    }
   ],
   "source": [
    "import torch\n",
    "\n",
    "torch.cuda.empty_cache()\n",
    "print(f\"GPU: {torch.cuda.get_device_name(0)}\")\n",
    "\n",
    "from datasets import load_dataset\n",
    "from transformers import (\n",
    "    AutoModelForCausalLM,\n",
    "    AutoTokenizer,\n",
    "    BitsAndBytesConfig,\n",
    "    HfArgumentParser,\n",
    "    TrainingArguments,\n",
    "    pipeline,\n",
    "    logging,\n",
    "    TextStreamer,\n",
    ")\n",
    "import transformers\n",
    "\n",
    "from peft import (\n",
    "    LoraConfig,\n",
    "    PeftModel,\n",
    "    prepare_model_for_kbit_training,\n",
    "    get_peft_model,\n",
    ")\n",
    "from trl import SFTTrainer, DataCollatorForCompletionOnlyLM\n"
   ]
  },
  {
   "cell_type": "code",
   "execution_count": 2,
   "metadata": {},
   "outputs": [
    {
     "data": {
      "application/vnd.jupyter.widget-view+json": {
       "model_id": "8c575664ed39447cb990a86a00bf4a88",
       "version_major": 2,
       "version_minor": 0
      },
      "text/plain": [
       "Loading checkpoint shards:   0%|          | 0/3 [00:00<?, ?it/s]"
      ]
     },
     "metadata": {},
     "output_type": "display_data"
    },
    {
     "name": "stderr",
     "output_type": "stream",
     "text": [
      "WARNING:root:Some parameters are on the meta device device because they were offloaded to the cpu.\n"
     ]
    }
   ],
   "source": [
    "# Ignore warnings\n",
    "logging.set_verbosity(logging.CRITICAL)\n",
    "inf_model_path=\"zephyr-7b-padding-full\"\n",
    "inf_model=AutoModelForCausalLM.from_pretrained(inf_model_path, device_map=\"auto\")\n",
    "inf_tokenizer = AutoTokenizer.from_pretrained(inf_model_path)\n",
    "streamer = TextStreamer(inf_tokenizer)"
   ]
  },
  {
   "cell_type": "code",
   "execution_count": 3,
   "metadata": {},
   "outputs": [
    {
     "name": "stdout",
     "output_type": "stream",
     "text": [
      "{'question': \"Janet’s ducks lay 16 eggs per day. She eats three for breakfast every morning and bakes muffins for her friends every day with four. She sells the remainder at the farmers' market daily for $2 per fresh duck egg. How much in dollars does she make every day at the farmers' market?\", 'answer': 'Janet sells 16 - 3 - 4 = <<16-3-4=9>>9 duck eggs a day.\\nShe makes 9 * 2 = $<<9*2=18>>18 every day at the farmer’s market.\\n#### 18'}\n"
     ]
    }
   ],
   "source": [
    "dataset = load_dataset(\"gsm8k\",'main')\n",
    "print(dataset['test'][0])"
   ]
  },
  {
   "cell_type": "code",
   "execution_count": 5,
   "metadata": {},
   "outputs": [
    {
     "name": "stdout",
     "output_type": "stream",
     "text": [
      "question: Mandy owes Benedict $100. They agreed to have monthly interest of 2%. If Mandy was able to pay it after 3 months, how much should she give to Benedict?\n",
      "\n",
      "answer: The monthly interest is $100 x 2/100 = $<<100*2/100=2>>2.\n",
      "After 3 months, the total interest amount to $2 x 3 = $<<2*3=6>>6.\n",
      "Therefore, Mandy should give Benedict a total of $100 + $6 = $<<100+6=106>>106.\n",
      "#### 106\n",
      "\n",
      "----model_inferencing----\n",
      "<|user|>Dean's mother gave him $28 to go to the toy store. Dean bought 6 toy cars and 5 teddy bears. Each toy car cost $2 and each teddy bear cost $1. His mother then feels generous and decides to give him an extra $10. How much money does Dean have left?</s> \n",
      "<|assistant|>\n",
      "Dean bought 6 toy cars at $2 each for a total of $6.\n",
      "He bought 5 teddy bears at $1 each for a total of $5.\n",
      "The total cost of the toys is $6 + $5 = $<<6+5=11>>11.\n",
      "Dean has $28 - $11 = $<<28-11=17>>17 left.\n",
      "His mother then gives him $10, so he has $17 + $10 = $<<17+10=27>>27.\n",
      "#### 27 dollars\n",
      "#### 27.00 dollars\n",
      "#### $27.00\n",
      "#### $27\n",
      "#### 27.00\n",
      "#### 27 dollars\n",
      "#### 27.00 dollars\n",
      "#### $27.00\n",
      "#### $27\n",
      "#### 27.00 dollars\n",
      "#### $27.00\n",
      "#### $27\n",
      "####\n",
      "<|user|>Dean's mother gave him $28 to go to the toy store. Dean bought 6 toy cars and 5 teddy bears. Each toy car cost $2 and each teddy bear cost $1. His mother then feels generous and decides to give him an extra $10. How much money does Dean have left?</s>\n",
      "<|assistant|>\n",
      "Dean bought 6 toy cars at $2 each for a total of $6.\n",
      "He bought 5 teddy bears at $1 each for a total of $5.\n",
      "The total cost of the toys is $6 + $5 = $<<6+5=11>>11.\n",
      "Dean has $28 - $11 = $<<28-11=17>>17 left.\n",
      "His mother then gives him $10, so he has $17 + $10 = $<<17+10=27>>27.\n",
      "#### 27 dollars\n",
      "#### 27.00 dollars\n",
      "#### $27.00\n",
      "#### $27\n",
      "#### 27.00\n",
      "#### 27 dollars\n",
      "#### 27.00 dollars\n",
      "#### $27.00\n",
      "#### $27\n",
      "#### 27.00 dollars\n",
      "#### $27.00\n",
      "#### $27\n",
      "####\n"
     ]
    }
   ],
   "source": [
    "# Run text generation pipeline with our next model\n",
    "import random\n",
    "# 将数据集转换为 Python 列表\n",
    "data_list = list(dataset['test'])  # 假设您想要从训练集中抽取数据\n",
    "# 从列表中随机选择一条数据\n",
    "random_data_point = random.choice(data_list)\n",
    "print(f\"question: {random_data_point['question']}\\n\")\n",
    "print(f\"answer: {random_data_point['answer']}\\n\")\n",
    "# 现在 random_data_point 包含了您随机选择的一条数据\n",
    "# print(random_data_point['question'])\n",
    "print(\"----model_inferencing----\")\n",
    "\n",
    "prompt = \"Dean's mother gave him $28 to go to the toy store. Dean bought 6 toy cars and 5 teddy bears. Each toy car cost $2 and each teddy bear cost $1. His mother then feels generous and decides to give him an extra $10. How much money does Dean have left?\"\n",
    "pipe = pipeline(task=\"text-generation\", model=inf_model, tokenizer=inf_tokenizer, max_length=300, streamer=streamer)\n",
    "result = pipe(f\"<|user|>{prompt}</s>\\n\")\n",
    "print(result[0]['generated_text'])"
   ]
  }
 ],
 "metadata": {
  "kernelspec": {
   "display_name": "Python 3",
   "language": "python",
   "name": "python3"
  },
  "language_info": {
   "codemirror_mode": {
    "name": "ipython",
    "version": 3
   },
   "file_extension": ".py",
   "mimetype": "text/x-python",
   "name": "python",
   "nbconvert_exporter": "python",
   "pygments_lexer": "ipython3",
   "version": "3.10.12"
  }
 },
 "nbformat": 4,
 "nbformat_minor": 2
}
